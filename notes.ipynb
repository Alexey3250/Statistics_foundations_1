{
 "cells": [
  {
   "attachments": {},
   "cell_type": "markdown",
   "metadata": {},
   "source": [
    "# Statistics foundations 1\n",
    "- Authour of the course: [Anatoliy Karpov](https://stepik.org/users/37659)\n",
    "  \n",
    "  <img src=\"https://raw.githubusercontent.com/KlukvaMors/basic_stat/a3db1e2526a8092d70d988531e8b10ad39ee8f32//img/Saint_Karpov.png\" width=\"300\"/>\n",
    "  \n",
    "  Link for the course: [Statistics foundations 1](https://stepik.org/course/76)\n",
    "  \n",
    "- Author of the notes (me): [Alexey Efimik](https://www.linkedin.com/in/efimik/)\n",
    "  \n",
    "  <img src=\"https://media.tenor.com/iMnwiRazlboAAAAM/come-on-irritated.gif\" width=\"200\"/>\n",
    "\n",
    "The original course is in Russian, but the notes are in English for no particular reason.\n",
    "\n",
    "## Table of contents\n",
    "\n",
    "## Introduction\n",
    "\n",
    "### General populaton & sample (Выборка и генеральная совокупность)\n",
    "\n",
    "- **General population** - is a set of all objects that we are interested in.\n",
    "- **Sample** - is a subset of general population.\n",
    "\n",
    "Population & sample \n",
    "https://ucarecdn.com/a7ce60d5-75dd-4e79-8d80-76b835481986/-/crop/814x419/42,0/-/preview/\n",
    "\n",
    "### Sampling methods (Методы выборки)\n",
    "\n",
    "![Sampling Methods](https://www.qualtrics.com/m/assets/uk/wp-content/uploads/2022/02/SystemicRandomSamplingRefresh_01-560x315_060722.png)\n",
    "\n",
    "- **Simple random sampling** - is a method of sampling where each element of the population has an equal chance of being selected.\n",
    "- **Stratified sampling** - is a method of sampling where the population is divided into groups (strata) and a random sample is selected from each group.\n",
    "- **Cluster sampling** - is a method of sampling where the population is divided into groups (clusters) and a random sample is selected from each group.\n",
    "- **Systematic sampling** - is a method of sampling where researchers select every kth element from the population.\n",
    "\n",
    "### Types of variables. Quantitative & qualitative variables (Типы переменных. Количественные и качественные переменные)\n",
    "\n",
    "#### Types of variables\n",
    "\n",
    "- **Quantitative variables (качественные переменные)** - are variables that can be measured on a numerical scale. *(ex. height, weight, age, etc.)*\n",
    "  - Discrete variables - are variables that can only take on certain values. *(ex. number of children, number of cars, etc.)*\n",
    "  - Continuous variables - are variables that can take on any value within a range. *(ex. height, weight, age, etc.)*\n",
    "- **Nominal variables** (qualitative, номинативные) - are variables that can be placed into categories, but the categories cannot be ordered or ranked. *(ex. ‘gender’)*\n",
    "\n"
   ]
  },
  {
   "attachments": {},
   "cell_type": "markdown",
   "metadata": {},
   "source": [
    "### Glossary\n",
    "\n",
    "**Emperical data** - is data that is collected by observation or experiment.\n",
    "\n",
    "**Descriptive statistics** - is a branch of statistics that deals with the collection, organization, and presentation of data. It is used to summarize large amounts of information in a meaningful way.\n",
    "\n",
    "Descriptive statistics is devided into two parts:\n",
    "- **Measures of central tendency** - are measures that describe the center of a distribution.\n",
    "  - **Mean (Среднее значение)** - is the sum of all values divided by the number of values.\n",
    "  - **Median (Медиана)** - is the middle value in a sorted, ascending or descending, list of numbers.\n",
    "  - **Mode (Мода)** - is the value that occurs most frequently in a set of data.\n",
    "\n",
    "\n",
    "- **Measures of variability** - are measures that describe the spread of a distribution.\n",
    "  - **Range (Размах)** - is the difference between the largest and smallest values in a data set.\n",
    "  - **Variance (Дисперсия)** - is a measure of how spread out numbers are.\n",
    "  - **Standard deviation (Стандартное отклонение)** - is a measure of how spread out numbers are.\n",
    "  - **Coefficient of variation (Коэффициент вариации)** - is a measure of how spread out numbers are.\n",
    "  - **Cumulative distribution function (Функция распределения)** - is a function that gives the probability that a variable takes a value less than or equal to x.\n",
    "  - **Percentile (Процентиль)** - is a measure used in statistics indicating the value below which a given percentage of observations in a group of observations fall.\n",
    "  - **Quartile (Квартиль)** - is a type of quantile, which is a measure used in statistics indicating the value below which a given percentage of observations in a group of observations fall.\n",
    "  - **Interquartile range (Межквартильный размах)** - is a measure of statistical dispersion, being equal to the difference between 75th and 25th percentiles, or between upper and lower quartiles, IQR = Q3 − Q1.\n",
    "  - **Outlier (Выброс)** - is an observation point that is distant from other observations.\n",
    "  - **Skewness (Асимметрия)** - is a measure of the asymmetry of the probability distribution of a real-valued random variable about its mean.\n",
    "  - **Kurtosis (Эксцесс)** - is a measure of whether the data are heavy-tailed or light-tailed relative to a normal distribution\n",
    "  - **Normal distribution (Нормальное распределение)** - is a type of continuous probability distribution for a real-valued random variable.\n",
    "  - **Standard normal distribution (Стандартное нормальное распределение)** - is a normal distribution with a mean of 0 and a standard deviation of 1.\n",
    "  - **Z-score (Z-оценка)** - is the signed number of standard deviations by which the value of an observation or data point is above the mean value of what is being observed or measured.\n",
    "  - **Probability distribution (Распределение вероятностей)** - is a function that gives the probabilities of occurrence of different possible outcomes in an experiment. Or, in other words, it is a function that describes the possible values that a random variable can take and the corresponding probabilities of these values.\n",
    "  - **Probability density function (Функция плотности вероятности или гистограмма частот)** - is a function that describes the relative likelihood for this value or any value around it to be drawn from the population.\n",
    "\n",
    "![Glossary](https://www.oreilly.com/api/v2/epubs/9789332558229/files/images/sym1.png)\n",
    "\n",
    "![Glossary](https://www.oreilly.com/api/v2/epubs/9789332558229/files/images/sym2.png)\n",
    "\n",
    "![Glossary](https://www.oreilly.com/api/v2/epubs/9789332558229/files/images/sym3.png)"
   ]
  },
  {
   "attachments": {},
   "cell_type": "markdown",
   "metadata": {},
   "source": [
    "### Measure of central tendency\n",
    "\n",
    "<img src=\"https://cdn1.byjus.com/wp-content/uploads/2022/09/Measures-Of-Central-Tendency-Mean-Median-and-Mode.png\" width=\"500\" />\n",
    "\n",
    "#### Why do we need to calculate mean mode and median?\n",
    "\n",
    "Mean, mode, and median are statistical measures that are commonly used to summarize a set of numerical data. These measures provide different ways of understanding the data and can be useful in different contexts.\n",
    "\n",
    "The mean, which is also known as the average, is a measure of the central tendency of the data. It is calculated by summing all the values in the data set and dividing by the number of values. The mean is useful for getting an overall sense of the data and can be used to make comparisons between different data sets.\n",
    "\n",
    "The mode is the value that occurs most frequently in the data set. It is a measure of the most common value in the data and can be useful for identifying trends or patterns in the data.\n",
    "\n",
    "The median is the middle value in a data set when the values are sorted in ascending order. It is a measure of the central tendency of the data that is not affected by extreme values. The median can be useful for identifying the typical value in a data set and for comparing data sets with different shapes.\n",
    "\n",
    "In summary, mean, mode, and median are useful tools for summarizing and analyzing numerical data. They provide different ways of understanding the data and can be used to make comparisons and identify trends and patterns."
   ]
  },
  {
   "attachments": {},
   "cell_type": "markdown",
   "metadata": {},
   "source": [
    "#### Mode (Мода)\n",
    "Mode is the value that occurs most frequently in a set of data.\n",
    "Mode symbol is Mo.\n",
    "\n",
    "<img src=\"https://www.investopedia.com/thmb/IH5tSGbNWueW5UqM_-0CiX09It4=/1500x0/filters:no_upscale():max_bytes(150000):strip_icc()/TermDefinitions_Mode_finalv1-47730ee52da642a89ac308af6ba76c80.png\" width=\"500\" />\n",
    "\n",
    "Formula for the mode\n",
    "\n",
    "$$\n",
    "\\text{mode} = \\max_{x \\in \\text{values}} { \\text{count}(x) }\n",
    "$$\n",
    "\n",
    "Here, values is the set of values, and count(x) is the number of times x occurs in the set. The mode is the value x that maximizes the count.\n",
    "\n",
    "For example, in the set of values {1, 2, 2, 3, 4, 4, 4}, the mode is 4 because it occurs the most frequently (3 times)."
   ]
  },
  {
   "attachments": {},
   "cell_type": "markdown",
   "metadata": {},
   "source": [
    "To find the mode we first need to generate a frequency table. The frequency table is a table that shows the number of times each value occurs in a data set."
   ]
  },
  {
   "cell_type": "code",
   "execution_count": 42,
   "metadata": {},
   "outputs": [
    {
     "name": "stdout",
     "output_type": "stream",
     "text": [
      "DescribeResult(nobs=30, minmax=(157, 185), mean=170.4, variance=36.04137931034482, skewness=-0.03244433060131143, kurtosis=0.31662406856471037)\n"
     ]
    }
   ],
   "source": [
    "from scipy import stats\n",
    "import numpy as np\n",
    "\n",
    "# create a random array of 1000 numbers\n",
    "a = np.array([185,175,170,169,171,172,175,157,170,172,167,173,168,167,166,\n",
    "              167,169,172,177,178,165,161,179,159,164,178,172,170,173,171])\n",
    "\n",
    "print(stats.describe(a))"
   ]
  },
  {
   "attachments": {},
   "cell_type": "markdown",
   "metadata": {},
   "source": [
    "- Variance (Дисперсия) is a measure of how spread out numbers are.\n",
    "  - Variance symbol is σ2.\n",
    "  - Variance formula is \n",
    "- Skewness (Асимметрия) is a measure of the asymmetry of the probability distribution of a real-valued random variable about its mean.\n",
    "- Kurtosis (Эксцесс) is a measure of whether the data are heavy-tailed or light-tailed relative to a normal distribution.\n",
    "- Nobs (Число наблюдений) is the number of observations.\n",
    "- minmax (Минимум и максимум) is the minimum and maximum values.\n",
    "\n",
    "> **Note:** Not sure what is the difference between variance and standard deviation? Check out this [article](https://www.statisticshowto.com/probability-and-statistics/standard-deviation/)."
   ]
  },
  {
   "attachments": {},
   "cell_type": "markdown",
   "metadata": {},
   "source": [
    "Lelt's visualize the frequency table for the data set.\n",
    "\n",
    "To visualize a dataset of random numbers using matplotlib, you can use the hist() function from the pyplot module. This function generates a histogram of the data, which is a useful way to visualize the distribution of the data.\n",
    "\n",
    "First, import the matplotlib.pyplot module and use the hist() function to generate a histogram of the data. For example:"
   ]
  },
  {
   "cell_type": "code",
   "execution_count": 43,
   "metadata": {},
   "outputs": [
    {
     "data": {
      "image/png": "[encoded data removed]",
      "text/plain": [
       "<Figure size 640x480 with 1 Axes>"
      ]
     },
     "metadata": {},
     "output_type": "display_data"
    }
   ],
   "source": [
    "import matplotlib.pyplot as plt\n",
    "\n",
    "# Add a title and labels to the plot\n",
    "plt.title(\"Distribution of Random Numbers\")\n",
    "plt.xlabel(\"Number\")\n",
    "plt.ylabel(\"Frequency\")\n",
    "\n",
    "# Generate a histogram of the data\n",
    "plt.hist(a)\n",
    "\n",
    "# Show the plot\n",
    "plt.show()"
   ]
  },
  {
   "attachments": {},
   "cell_type": "markdown",
   "metadata": {},
   "source": [
    "Alternatively, you can use the seaborn library to generate a more visually appealing plot. The seaborn.distplot() function can be used to plot a histogram with a smooth density curve on top of it. For example:"
   ]
  },
  {
   "cell_type": "code",
   "execution_count": 44,
   "metadata": {},
   "outputs": [
    {
     "data": {
      "text/plain": [
       "Text(0.5, 9.444444444444438, 'Number')"
      ]
     },
     "execution_count": 44,
     "metadata": {},
     "output_type": "execute_result"
    },
    {
     "data": {
      "image/png": "[encoded data removed]",
      "text/plain": [
       "<Figure size 500x500 with 1 Axes>"
      ]
     },
     "metadata": {},
     "output_type": "display_data"
    }
   ],
   "source": [
    "import seaborn as sns\n",
    "\n",
    "# Generate a histogram with a density curve\n",
    "sns.displot(a)\n",
    "\n",
    "# Add a title and labels to the plot\n",
    "plt.title(\"Distribution of Random Numbers\")\n",
    "plt.xlabel(\"Number\")\n"
   ]
  },
  {
   "attachments": {},
   "cell_type": "markdown",
   "metadata": {},
   "source": [
    "Let's calculate the mode. To calculate the mode of an array in Python, you can use the statistics.mode() function from the statistics module. Here is an example:"
   ]
  },
  {
   "cell_type": "code",
   "execution_count": 49,
   "metadata": {},
   "outputs": [
    {
     "name": "stdout",
     "output_type": "stream",
     "text": [
      "Mode: 172\n"
     ]
    }
   ],
   "source": [
    "import statistics\n",
    "\n",
    "# Calculate the mode\n",
    "mode = statistics.mode(a)\n",
    "\n",
    "# Print the mode\n",
    "print(\"Mode:\", mode)\n"
   ]
  },
  {
   "attachments": {},
   "cell_type": "markdown",
   "metadata": {},
   "source": [
    "To visualize a number with a label on a histogram in Matplotlib, you can use the plt.hist() and plt.text() functions. Here is an example of how you can do this:"
   ]
  },
  {
   "cell_type": "code",
   "execution_count": 50,
   "metadata": {},
   "outputs": [
    {
     "data": {
      "image/png": "[encoded data removed]",
      "text/plain": [
       "<Figure size 640x480 with 1 Axes>"
      ]
     },
     "metadata": {},
     "output_type": "display_data"
    }
   ],
   "source": [
    "# Calculate the count of each value in the array manually (without using a library)\n",
    "counts = {}\n",
    "for value in a:\n",
    "    if value in counts:\n",
    "        counts[value] += 1\n",
    "    else:\n",
    "        counts[value] = 1\n",
    "\n",
    "# Calculate the mode\n",
    "mode = max(counts, key=lambda x: counts[x])\n",
    "\n",
    "# Plot the histogram\n",
    "plt.hist(a)\n",
    "\n",
    "# Add the mode value as a label on the histogram\n",
    "plt.text(mode, counts[mode], str(mode))\n",
    "\n",
    "# Show the plot\n",
    "plt.show()"
   ]
  },
  {
   "attachments": {},
   "cell_type": "markdown",
   "metadata": {},
   "source": [
    "The dataset can actually have few modes.\n",
    "\n",
    "<img src=\"https://i.imgur.com/aOvaqyf.png\" width=\"700\" />"
   ]
  },
  {
   "attachments": {},
   "cell_type": "markdown",
   "metadata": {},
   "source": [
    "#### Median (Медиана)\n",
    "Median is the middle value in a data set.\n",
    "Median symbol is M.\n",
    "\n",
    "<img src=\"https://cdn1.byjus.com/wp-content/uploads/2022/10/Median.png\" width=\"500\" />\n",
    "\n",
    "In other words, it is the value that divides the higher half from the lower half of a data sample.\n",
    "\n",
    "The median of a set of values is the middle value when the values are sorted in ascending order. If the number of values is odd, the median is the middle value. If the number of values is even, the median is the average of the two middle values. The median can be found using the following formula:\n",
    "\n",
    "$$\n",
    "\\text{median} = \\begin{cases}\n",
    "\\text{sorted_values}{\\frac{\\text{n}}{2}} & \\text{if } \\text{n} \\text{ is odd} \\\n",
    "\\frac{\\text{sorted_values}{\\frac{\\text{n}}{2}} + \\text{sorted_values}_{\\frac{\\text{n}}{2} - 1}}{2} & \\text{if } \\text{n} \\text{ is even}\n",
    "\\end{cases}\n",
    "$$\n",
    "\n",
    "Here, n is the number of values in the set, and sorted_values is the set of values sorted in ascending order. The median is the middle value or the average of the two middle values, depending on whether n is odd or even.\n",
    "\n",
    "For example, in the set of values {1, 2, 2, 3, 4, 4, 4}, the median is 3 because it is the middle value when the values are sorted in ascending order. In the set of values {1, 2, 2, 3, 4, 4, 4, 5}, the median is 3.5 because it is the average of the two middle values (3 and 4) when the values are sorted in ascending order."
   ]
  },
  {
   "attachments": {},
   "cell_type": "markdown",
   "metadata": {},
   "source": [
    "To calculate and visualize the median of an array in Python, you can use the statistics.median() function from the statistics module, along with the plt.hist() and plt.axvline() functions from Matplotlib. Here is an example of how you can do this:"
   ]
  },
  {
   "cell_type": "code",
   "execution_count": 55,
   "metadata": {},
   "outputs": [
    {
     "data": {
      "image/png": "[encoded data removed]",
      "text/plain": [
       "<Figure size 640x480 with 1 Axes>"
      ]
     },
     "metadata": {},
     "output_type": "display_data"
    }
   ],
   "source": [
    "import matplotlib.pyplot as plt\n",
    "import statistics\n",
    "\n",
    "# Define an array of values\n",
    "values = np.array([185,175,170,169,171,172,175,157,170,172,167,173,168,167,166,167,169,172,177,178,165,161,179,159,164,178,172,170,173,171])\n",
    "\n",
    "# Calculate the median\n",
    "median = statistics.median(values)\n",
    "\n",
    "# Plot the histogram\n",
    "plt.hist(values)\n",
    "\n",
    "# Add a vertical line at the median value\n",
    "plt.axvline(median, color='r', linestyle='dashed', linewidth=2)\n",
    "\n",
    "# Show the plot\n",
    "plt.show()"
   ]
  },
  {
   "attachments": {},
   "cell_type": "markdown",
   "metadata": {},
   "source": [
    "#### Mean (Среднее арифметическое)\n",
    "\n",
    "Mean is the average of all values in a data set.\n",
    "\n",
    "It can be found using the following formula:\n",
    "\n",
    "$$\n",
    "\\text{mean} = \\frac{\\sum_{i=1}^{\\text{n}} \\text{values}_i}{\\text{n}}\n",
    "$$\n",
    "\n",
    "Here, n is the number of values in the set, and values is the set of values. The mean is the sum of the values divided by the number of values.\n",
    "\n",
    "For example, in the set of values {1, 2, 2, 3, 4, 4, 4}, the mean is $\\frac{1 + 2 + 2 + 3 + 4 + 4 + 4}{7} = \\frac{20}{7} = 2.86$. This is the average value of the given set of values.\n",
    "\n",
    "To calculate and visualize the mean of an array in Python, you can use the numpy.mean() function from the numpy module, along with the plt.hist() and plt.axvline() functions from Matplotlib. Here is an example of how you can do this:"
   ]
  },
  {
   "cell_type": "code",
   "execution_count": 56,
   "metadata": {},
   "outputs": [
    {
     "data": {
      "image/png": "[encoded data removed]",
      "text/plain": [
       "<Figure size 640x480 with 1 Axes>"
      ]
     },
     "metadata": {},
     "output_type": "display_data"
    }
   ],
   "source": [
    "import matplotlib.pyplot as plt\n",
    "import numpy as np\n",
    "\n",
    "# Define an array of values\n",
    "values = np.array([185, 175, 170, 169, 171, 175, 157, 172, 170, 172, 167, 173, 168, 167, 166, 167, 169, 172, 177, 178, 165, 161, 179, 159, 164, 178, 172, 170, 173, 171])\n",
    "\n",
    "# Calculate the mean\n",
    "mean = np.mean(values)\n",
    "\n",
    "# Plot the histogram\n",
    "plt.hist(values)\n",
    "\n",
    "# Add a vertical line at the mean value\n",
    "plt.axvline(mean, color='r', linestyle='dashed', linewidth=2)\n",
    "\n",
    "# Show the plot\n",
    "plt.show()"
   ]
  },
  {
   "attachments": {},
   "cell_type": "markdown",
   "metadata": {},
   "source": [
    "###### Mean properties\n",
    "\n",
    "- You  can add a constant to the every data point to shift the mean. The mean will shift accordingly.\n",
    "  - <img src=\"https://i.imgur.com/ldmrYX4.png\" width=\"500\" />\n",
    "- If you multiply every data point by a constant, the mean will also be multiplied by the same constant.\n",
    "  - <img src=\"https://i.imgur.com/mEmCxOZ.png\" width=\"200\" />\n",
    "- If you remove the constant from every data point, the mean will also be reduced by the same constant.\n",
    "  - <img src=\"https://i.imgur.com/mEmCxOZ.png\" width=\"200\" />"
   ]
  },
  {
   "attachments": {},
   "cell_type": "markdown",
   "metadata": {},
   "source": [
    "### Measures of variability (Меры изменчивости)"
   ]
  },
  {
   "attachments": {},
   "cell_type": "markdown",
   "metadata": {},
   "source": [
    "##### Definition of measures of variability\n",
    "\n",
    "Measures of variability are statistical measures that are used to describe the spread of the data. They are used to understand how much the data varies from the mean.\n"
   ]
  },
  {
   "attachments": {},
   "cell_type": "markdown",
   "metadata": {},
   "source": [
    "#### Range (Диапазон)\n",
    "\n",
    "<img src=\"https://i.imgur.com/ljCQ30z.png\" width=\"700\" />\n",
    "\n",
    "The range is a statistical measure that is used to summarize a set of numerical data. It is defined as the difference between the largest and smallest values in the data set. The range can be calculated using the following formula:\n",
    "\n",
    "$$\n",
    "\\text{range} = \\max(\\text{values}) - \\min(\\text{values})\n",
    "$$\n",
    "\n",
    "Here, values is the set of values in the data set, max(values) is the largest value in the data set, and min(values) is the smallest value in the data set. The range is the difference between these two values.\n",
    "\n",
    "For example, in the set of values {1, 2, 2, 3, 4, 4, 4}, the range is $4 - 1 = 3$. This is the difference between the largest value (4) and the smallest value (1) in the data set.\n",
    "\n",
    "The range is a measure of the spread or dispersion of the data. It is a useful tool for comparing different data sets and for identifying trends or patterns in the data. It is often used in combination with other statistical measures, such as the mean and the standard deviation, to provide a more complete picture of the data."
   ]
  },
  {
   "attachments": {},
   "cell_type": "markdown",
   "metadata": {},
   "source": [
    "#### Variance (Дисперсия)\n",
    "\n",
    "Variance is a statistical measure that is used to describe the spread of the data. It is calculated by taking the average of the squared deviations from the mean.\n",
    "\n",
    "<img src=\"https://i.imgur.com/iKnXMEp.png\" width=\"700\" />\n",
    "\n",
    "The variance of a population can be calculated using the following formula:\n",
    "\n",
    "$$ variance = \\frac{\\sum_{i=1}^{n} (x_i - \\mu)^2}{n} $$\n",
    "\n",
    "The variance of a sample can be calculated using the following formula:\n",
    "\n",
    "$$ variance = \\frac{\\sum_{i=1}^{n} (x_i - \\mu)^2}{n-1} $$\n",
    "\n",
    "The standard deviation is the square root of the variance. The standard deviation is a measure of the spread of the data. It is calculated using the following formula:\n",
    "\n",
    "$$\n",
    "\\text{std} = \\sqrt{\\text{variance}}\n",
    "$$\n",
    "\n",
    "Degrees of freedom (Степени свободы) - Estimates of statistical parameters can be based upon different amounts of information or data. The number of independent pieces of information that go into the estimate of a parameter is called the degrees of freedom. In general, the degrees of freedom of an estimate of a parameter are equal to the number of independent scores that go into the estimate minus the number of parameters used as intermediate steps in the estimation of the parameter itself. For example, if the variance is to be estimated from a random sample of N independent scores, then the degrees of freedom is equal to the number of independent scores (N) minus the number of parameters estimated as intermediate steps (one, namely, the sample mean) and is therefore equal to N − 1\n",
    "\n",
    "> Squared deviations are used to avoid negative values.\n",
    "\n",
    "Variance formula can be interpreted as:\n",
    "\n",
    "Subtract the mean from each value in the dataset to calculate the deviations from the mean.\n",
    "Square each deviation to remove the signs (positive and negative) and make all values positive.\n",
    "Sum all the squared deviations.\n",
    "Divide the sum of the squared deviations by the number of values in the dataset to calculate the variance.\n",
    "The variance measures how spread out the values in a dataset are. A low variance indicates that the values in the dataset are clustered close to the mean, while a high variance indicates that the values are more spread out.\n",
    "\n",
    "<img src=\"https://i.imgur.com/2OJQtr5.png\" width=\"700\" />"
   ]
  },
  {
   "attachments": {},
   "cell_type": "markdown",
   "metadata": {},
   "source": [
    "##### Standard deviation (Среднеквадратическое отклонение)\n",
    "\n",
    "The standard deviation is a statistical measure that is used to summarize the dispersion or spread of a set of numerical data. It is defined as the square root of the average of the squared differences between the values in the data set and the mean of the data set. The standard deviation can be calculated using the following formula:\n",
    "\n",
    "$$\n",
    "\\text{std} = \\sqrt{\\frac{\\sum_{i=1}^{\\text{n}} (\\text{values}_i - \\text{mean})^2}{\\text{n}} }\n",
    "$$\n",
    "\n",
    "Here, n is the number of values in the data set, values is the set of values in the data set, mean is the mean of the data set, and std is the standard deviation. The standard deviation is calculated by summing the squared differences between the values and the mean, dividing by the number of values, and taking the square root of the result.\n",
    "\n",
    "For example, in the set of values {1, 2, 2, 3, 4, 4, 4}, the mean is $\\frac{1 + 2 + 2 + 3 + 4 + 4 + 4}{7} = \\frac{20}{7} = 2.86$. The standard deviation is then calculated as follows:\n",
    "\n",
    "$$\n",
    "\\text{std} = \\sqrt{\\frac{(1 - 2.86)^2 + (2 - 2.86)^2 + (2 - 2.86)^2 + (3 - 2.86)^2 + (4 - 2.86)^2 + (4 - 2.86)^2 + (4 - 2.86)^2}{7} } = \\sqrt{\\frac{28.06}{7}} = 1.11\n",
    "$$\n",
    "\n",
    "The standard deviation is a measure of the spread or dispersion of the data. It is a useful tool for comparing different data sets and for identifying trends or patterns in the data. It is often used in combination with other statistical measures, such as the mean and the range, to provide a more complete picture of the data."
   ]
  },
  {
   "attachments": {},
   "cell_type": "markdown",
   "metadata": {},
   "source": [
    "###### Properties of variance and standard deviation\n",
    "\n",
    "- If we add a constant to every data point, the variance will not change.\n",
    "  - <img src=\"https://i.imgur.com/fdeL4Bm.png\" width=\"600\" />\n",
    "- If we multiply every data point by a constant, the variance will be multiplied by the square of the constant.\n",
    "  - <img src=\"https://i.imgur.com/UByzk9H.png\" width=\"600\" />\n",
    "  - > There is an error in the last formula. sd_x*c=sd_x*|c| as the standard deviation is always positive."
   ]
  },
  {
   "attachments": {},
   "cell_type": "markdown",
   "metadata": {},
   "source": [
    "Let's calculate the standard deviation of the following dataset:\n",
    "> 1 5 2 7 1 9 3 8 5 9"
   ]
  },
  {
   "attachments": {},
   "cell_type": "markdown",
   "metadata": {},
   "source": [
    "To calculate the standard deviation of a dataset in Python without rounding up the result, you can use the numpy.std() function from the numpy module and specify the ddof parameter. The ddof parameter allows you to specify the degree of freedom used in the calculation, which affects the amount of rounding in the result. By setting the ddof parameter to 0, you can calculate the standard deviation without rounding up the result.\n",
    "\n",
    "Here is an example of how you can use the numpy.std() function to calculate the standard deviation of the given dataset without rounding up the result:"
   ]
  },
  {
   "cell_type": "code",
   "execution_count": 65,
   "metadata": {},
   "outputs": [
    {
     "name": "stdout",
     "output_type": "stream",
     "text": [
      "Standard deviation: 3.1622776601683795\n"
     ]
    }
   ],
   "source": [
    "import numpy as np\n",
    "\n",
    "# Define an array of values\n",
    "values = [1, 5, 2, 7, 1, 9, 3, 8, 5, 9]\n",
    "\n",
    "# Calculate the standard deviation\n",
    "std = np.std(values, ddof=1)\n",
    "\n",
    "# Print the result\n",
    "print(\"Standard deviation:\", std)"
   ]
  },
  {
   "attachments": {},
   "cell_type": "markdown",
   "metadata": {},
   "source": [
    "Calculation without using a numpy library:"
   ]
  },
  {
   "cell_type": "code",
   "execution_count": 67,
   "metadata": {},
   "outputs": [
    {
     "name": "stdout",
     "output_type": "stream",
     "text": [
      "Average: 5.0\n",
      "Range: 8\n",
      "Median: 5.0\n",
      "Variance in a population: 9.0\n",
      "Variance in a sample: 10.0\n",
      "Standard deviation: 3.1622776601683795\n"
     ]
    }
   ],
   "source": [
    "# Find the average\n",
    "def find_average(x):\n",
    "    return sum(x) / len(x)\n",
    "\n",
    "\n",
    "# Find the range\n",
    "def find_range(x):\n",
    "    x_copy = sorted(x)\n",
    "    return abs(x_copy[-1] - x_copy[0])\n",
    "\n",
    "# Find the median\n",
    "def find_median(x):\n",
    "    if len(x) % 2 == 0:\n",
    "        return (x[len(x) // 2] + x[len(x) // 2 -1]) / 2\n",
    "    else:\n",
    "        return x[len(x) // 2]\n",
    "\n",
    "\n",
    "# Find the variance in a population\n",
    "def find_general_variance(x, x_average):\n",
    "    variance = 0\n",
    "    for i in x:\n",
    "        variance += (i - x_average) ** 2\n",
    "    return variance / len(x)\n",
    "\n",
    "# Find the variance in a sample\n",
    "def find_subgeneral_variance(x, x_average):\n",
    "    variance = 0\n",
    "    for i in x:\n",
    "        variance += (i - x_average) ** 2\n",
    "    return variance / (len(x) - 1)\n",
    "\n",
    "# Find the standard deviation\n",
    "def get_sqrt(x):\n",
    "    return x ** 0.5\n",
    "\n",
    "# Print the results\n",
    "print(\"Average:\", find_average(values))\n",
    "print(\"Range:\", find_range(values))\n",
    "print(\"Median:\", find_median(values))\n",
    "print(\"Variance in a population:\", find_general_variance(values, find_average(values)))\n",
    "print(\"Variance in a sample:\", find_subgeneral_variance(values, find_average(values)))\n",
    "print(\"Standard deviation:\", get_sqrt(find_subgeneral_variance(values, find_average(values))))\n"
   ]
  },
  {
   "attachments": {},
   "cell_type": "markdown",
   "metadata": {},
   "source": [
    "###### Visualizing the variance\n",
    "To visualize the variance of a random array using matplotlib, you can use the boxplot() function from the pyplot module. This function generates a boxplot, which is a useful way to visualize the variance of a dataset.\n",
    "\n",
    "First, import the matplotlib.pyplot module and use the boxplot() function to generate a boxplot of the array.\n",
    "\n",
    "To highlight the variance of the data, you can add a title and labels to the plot using the title(), xlabel(), and ylabel() functions."
   ]
  },
  {
   "cell_type": "code",
   "execution_count": 45,
   "metadata": {},
   "outputs": [
    {
     "data": {
      "image/png": "[encoded data removed]",
      "text/plain": [
       "<Figure size 640x480 with 1 Axes>"
      ]
     },
     "metadata": {},
     "output_type": "display_data"
    }
   ],
   "source": [
    "# Add a title and labels to the plot\n",
    "plt.title(\"Variance of Random Numbers\")\n",
    "plt.xlabel(\"Numbers\")\n",
    "plt.ylabel(\"Variance\")\n",
    "\n",
    "# Generate a boxplot of the array\n",
    "plt.boxplot(a)\n",
    "\n",
    "# Show the plot\n",
    "plt.show()"
   ]
  },
  {
   "attachments": {},
   "cell_type": "markdown",
   "metadata": {},
   "source": [
    "This will generate a boxplot that shows the variance of the random numbers. The box in the plot represents the interquartile range of the data, which indicates how spread out the middle 50% of the data is. The whiskers of the plot extend to the minimum and maximum values of the data, which gives an idea of the overall range of the data."
   ]
  },
  {
   "attachments": {},
   "cell_type": "markdown",
   "metadata": {},
   "source": [
    "### Quantiles (Квантили)"
   ]
  },
  {
   "attachments": {},
   "cell_type": "markdown",
   "metadata": {},
   "source": [
    "A quantile is a statistical measure that is used to summarize a set of numerical data. It is a value that divides the data into groups or intervals, such that a certain percentage of the data falls below the quantile and the remaining percentage of the data falls above the quantile.\n",
    "\n",
    "For example, the median is a special type of quantile that divides the data into two groups, such that 50% of the data falls below the median and 50% of the data falls above the median. Other common quantiles include the 25th percentile (which divides the data into four groups, such that 25% of the data falls below the quantile and 75% of the data falls above the quantile) and the 75th percentile (which divides the data into four groups, such that 75% of the data falls below the quantile and 25% of the data falls above the quantile).\n",
    "\n",
    "Quantiles are useful tools for analyzing and comparing data sets because they provide a way to divide the data into groups and to identify the values that are above or below a certain percentile. This allows you to see the distribution of the data and to identify trends or patterns in the data."
   ]
  },
  {
   "attachments": {},
   "cell_type": "markdown",
   "metadata": {},
   "source": [
    "<img src=\"https://i.imgur.com/IA7wAiG.png\" width=\"700\" />"
   ]
  },
  {
   "attachments": {},
   "cell_type": "markdown",
   "metadata": {},
   "source": [
    "- КВАНТиль = квант = quantity = количество\n",
    "- КВАРТиль = кварта = quarter = четверть\n",
    "- ДЕЦИЛЬ = децима = decima = десятая часть\n",
    "- 2-квантиль = медиана = median\n",
    "- 4-квантиль = квартиль = quartile\n",
    "- 10-квантиль = дециль = decile\n",
    "- 100-квантиль = перцентиль = percentile"
   ]
  },
  {
   "cell_type": "code",
   "execution_count": 68,
   "metadata": {},
   "outputs": [
    {
     "name": "stdout",
     "output_type": "stream",
     "text": [
      "167.0\n",
      "170.5\n",
      "173.0\n",
      "185\n"
     ]
    }
   ],
   "source": [
    "import numpy as np\n",
    "\n",
    "# Hights of students\n",
    "hights = np.array([157,159,161,164,165,166,167,167,167,168,169,169,170,170,170,171,171,172,172,172,172,173,173,175,175,177,178,178,179,185])\n",
    "\n",
    "# 1st quartile\n",
    "print(np.quantile(hights, 0.25))\n",
    "# 2nd quartile\n",
    "print(np.quantile(hights, 0.50))\n",
    "# 3rd quartile\n",
    "print(np.quantile(hights, 0.75))\n",
    "# 4th quartile\n",
    "print(np.quantile(hights, 1))"
   ]
  },
  {
   "attachments": {},
   "cell_type": "markdown",
   "metadata": {},
   "source": [
    "#### Boxplot (Диаграмма размаха)\n",
    "\n",
    "Boxplot is a graphical representation of the distribution of data. It is a useful tool for comparing different data sets and for identifying trends or patterns in the data. It is often used in combination with other statistical measures, such as the mean and the range, to provide a more complete picture of the data.\n",
    "\n",
    "<img src=\"https://ucarecdn.com/890a7dfd-5a9b-4a08-b0fc-7e9b15488f78/\" width=\"500\" />"
   ]
  },
  {
   "cell_type": "code",
   "execution_count": 69,
   "metadata": {},
   "outputs": [
    {
     "data": {
      "image/png": "[encoded data removed]",
      "text/plain": [
       "<Figure size 640x480 with 1 Axes>"
      ]
     },
     "metadata": {},
     "output_type": "display_data"
    }
   ],
   "source": [
    "import matplotlib.pyplot as plt\n",
    "import numpy as np\n",
    "\n",
    "# Define an array of values\n",
    "values = np.array([157, 159, 161, 164, 165, 166, 167, 167, 167, 168, 169, 169, 170, 170, 170, 171, 171, 172, 172, 172, 172, 173, 173, 175, 175, 177, 178, 178, 179, 185])\n",
    "\n",
    "# Create a figure and a subplot\n",
    "fig, ax = plt.subplots()\n",
    "\n",
    "# Draw the boxplot\n",
    "ax.boxplot(values)\n",
    "\n",
    "# Show the plot\n",
    "plt.show()"
   ]
  },
  {
   "cell_type": "code",
   "execution_count": 70,
   "metadata": {},
   "outputs": [
    {
     "data": {
      "image/png": "[encoded data removed]",
      "text/plain": [
       "<Figure size 1000x500 with 2 Axes>"
      ]
     },
     "metadata": {},
     "output_type": "display_data"
    }
   ],
   "source": [
    "# Create a figure and two subplots\n",
    "fig, (ax1, ax2) = plt.subplots(nrows=1, ncols=2, figsize=(10, 5))\n",
    "\n",
    "# Draw the boxplot\n",
    "ax1.boxplot(values)\n",
    "ax1.set_title('Boxplot')\n",
    "\n",
    "# Draw the histogram\n",
    "ax2.hist(values, bins=10)\n",
    "ax2.set_title('Histogram')\n",
    "\n",
    "# Show the plot\n",
    "plt.show()"
   ]
  },
  {
   "attachments": {},
   "cell_type": "markdown",
   "metadata": {},
   "source": [
    "<img src=\"https://i.imgur.com/RWMG1uh.png\" width=\"450\" />"
   ]
  },
  {
   "attachments": {},
   "cell_type": "markdown",
   "metadata": {},
   "source": [
    "<img src=\"https://ucarecdn.com/c476e686-fb7b-4e8a-b9d3-54d3b461bb44/\" width=\"500\" />"
   ]
  },
  {
   "attachments": {},
   "cell_type": "markdown",
   "metadata": {},
   "source": [
    "Comparison of the shape of the boxplot for different distributions:\n",
    "\n",
    "<img src=\"https://i.ytimg.com/vi/FPREzlHdWRY/maxresdefault.jpg\" width=\"700\" />"
   ]
  },
  {
   "attachments": {},
   "cell_type": "markdown",
   "metadata": {},
   "source": [
    "### Normal distribution (Нормальное распределение)\n",
    "\n",
    "Normal distribution is a type of probability distribution that is symmetric around the mean, showing that data near the mean are more frequent in occurrence than data far from the mean.\n",
    "\n",
    "<img src=\"https://supervisorbullying.com/wp-content/uploads/2022/09/normal-distribution-gaussian-distribution-1350x675px.webp\" width=\"700\" />\n",
    "\n",
    "It's the most common distribution in nature. It is also called Gaussian distribution, because it was first described by Carl Friedrich Gauss.\n",
    "\n",
    "IN order to visualize the normal distribution, in 1873 Francis Galcon created a device that was later called Galton's board. It was a wooden board with a series of pegs in a line. Galton dropped a certain number of beans on the board and observed how they fell. He found that the beans fell in a bell-shaped curve, which is the same shape as the normal distribution.\n",
    "\n",
    "<img src=\"https://ucarecdn.com/91228f7a-34c2-47d1-8e87-47dc52c9e6e9/\" width=\"400\" />"
   ]
  },
  {
   "attachments": {},
   "cell_type": "markdown",
   "metadata": {},
   "source": [
    "#### Galton's board simulation\n",
    "\n",
    "First, we will create one obstruction on the board. "
   ]
  },
  {
   "cell_type": "code",
   "execution_count": 80,
   "metadata": {},
   "outputs": [],
   "source": [
    "import numpy as np\n",
    "\n",
    "# Creating wells where the balls will fall (создаем колодцы, куда будут падать шарики после прохождения препятствий)\n",
    "a = {-5:0, -4:0, -3:0, -2:0, -1:0, 0:0, +1:0, +2:0, +3:0, +4:0, +5:0}\n",
    "\n",
    "# Drop 100 balls (бросаем 100 шариков)\n",
    "for i in range(100):\n",
    "    \n",
    "    # At first, the ball goes throut the center (первоначально шарик летит по центру)\n",
    "    x = 0\n",
    "    \n",
    "    # 1st obstruction, the ball goes to either +-1 to the left or right (первое препятствие - шарик отскочит либо налево (-1), либо направо (+1))\n",
    "    # random.choice will give one of the elements of the array with equal probability (random.choice в numpy с равной вероятностью выдает один из элементов массива) \n",
    "    x += np.random.choice([-1,1])\n",
    "    \n",
    "    # Wll land the ball to one of the wells, depending where it bounced (приземляем шарик к колодец, в зависимости от того, куда она отскочил)\n",
    "    a[x] += 1"
   ]
  },
  {
   "attachments": {},
   "cell_type": "markdown",
   "metadata": {},
   "source": [
    "Let's see what happend"
   ]
  },
  {
   "cell_type": "code",
   "execution_count": 81,
   "metadata": {},
   "outputs": [
    {
     "data": {
      "image/png": "[encoded data removed]",
      "text/plain": [
       "<Figure size 640x480 with 1 Axes>"
      ]
     },
     "metadata": {},
     "output_type": "display_data"
    }
   ],
   "source": [
    "import seaborn as sns\n",
    "\n",
    "sns.set()\n",
    "# x will shot the indexes of our wells (по х - покажем индексы наших колодцев)\n",
    "# y will show how many balls fell into each well (по у - сколько шариков попало в каждый колодец)\n",
    "sns.barplot(x=list(a.keys()), y=list(a.values()));"
   ]
  },
  {
   "attachments": {},
   "cell_type": "markdown",
   "metadata": {},
   "source": [
    "Balls have fallen in 2 groups.\n",
    "Let's add more obstructions (total: 2)"
   ]
  },
  {
   "cell_type": "code",
   "execution_count": 83,
   "metadata": {},
   "outputs": [],
   "source": [
    "import numpy as np\n",
    "\n",
    "a = {-5:0, -4:0, -3:0, -2:0, -1:0, 0:0, +1:0, +2:0, +3:0, +4:0, +5:0}\n",
    "\n",
    "# drop 1000 balls (кидаем 1000 шариков)\n",
    "for i in range(1000):\n",
    "    x = 0\n",
    "    x += np.random.choice([-1,1])\n",
    "    \n",
    "    # 2nd row of obstacles - the ball will either go to the center or even further from the center (второй ряд препятствий - шарик полетит либо в центр, либо еще дальше от центра)\n",
    "    x += np.random.choice([-1,1])\n",
    "    a[x] += 1"
   ]
  },
  {
   "attachments": {},
   "cell_type": "markdown",
   "metadata": {},
   "source": [
    "Let's see what happend:"
   ]
  },
  {
   "cell_type": "code",
   "execution_count": 76,
   "metadata": {},
   "outputs": [
    {
     "data": {
      "image/png": "[encoded data removed]",
      "text/plain": [
       "<Figure size 640x480 with 1 Axes>"
      ]
     },
     "metadata": {},
     "output_type": "display_data"
    }
   ],
   "source": [
    "import seaborn as sns\n",
    "\n",
    "sns.set()\n",
    "sns.barplot(x=list(a.keys()), y=list(a.values()));"
   ]
  },
  {
   "attachments": {},
   "cell_type": "markdown",
   "metadata": {},
   "source": [
    "We can see that the balls have fallen in 3 groups. Most of the balls have fallen in the middle group.\n",
    "Let's add 2 more obstructions (total: 4)"
   ]
  },
  {
   "cell_type": "code",
   "execution_count": 84,
   "metadata": {},
   "outputs": [],
   "source": [
    "import numpy as np\n",
    "\n",
    "a = {-5:0, -4:0, -3:0, -2:0, -1:0, 0:0, +1:0, +2:0, +3:0, +4:0, +5:0}\n",
    "\n",
    "for i in range(1000):\n",
    "    x = 0;\n",
    "    x += np.random.choice([-1,1])\n",
    "    x += np.random.choice([-1,1])\n",
    "    x += np.random.choice([-1,1])\n",
    "    x += np.random.choice([-1,1])\n",
    "    a[x] += 1;"
   ]
  },
  {
   "attachments": {},
   "cell_type": "markdown",
   "metadata": {},
   "source": [
    "Let's see what happend:"
   ]
  },
  {
   "cell_type": "code",
   "execution_count": 85,
   "metadata": {},
   "outputs": [
    {
     "data": {
      "image/png": "[encoded data removed]",
      "text/plain": [
       "<Figure size 640x480 with 1 Axes>"
      ]
     },
     "metadata": {},
     "output_type": "display_data"
    }
   ],
   "source": [
    "sns.set()\n",
    "sns.barplot(x=list(a.keys()), y=list(a.values()));"
   ]
  },
  {
   "attachments": {},
   "cell_type": "markdown",
   "metadata": {},
   "source": [
    "Finally let's make 20 obstructions and see what happens:"
   ]
  },
  {
   "cell_type": "code",
   "execution_count": 78,
   "metadata": {},
   "outputs": [],
   "source": [
    "import numpy as np\n",
    "\n",
    "a = {}\n",
    "for i in range(1000):\n",
    "    x = 0;\n",
    "    for j in range(20):\n",
    "        x += np.random.choice([-1,1])\n",
    "    a[x] = a.get(x, 0) + 1;"
   ]
  },
  {
   "cell_type": "code",
   "execution_count": 79,
   "metadata": {},
   "outputs": [
    {
     "data": {
      "image/png": "[encoded data removed]",
      "text/plain": [
       "<Figure size 640x480 with 1 Axes>"
      ]
     },
     "metadata": {},
     "output_type": "display_data"
    }
   ],
   "source": [
    "import seaborn as sns\n",
    "\n",
    "sns.set()\n",
    "sns.barplot(x=list(a.keys()), y=list(a.values()));"
   ]
  },
  {
   "attachments": {},
   "cell_type": "markdown",
   "metadata": {},
   "source": [
    "As we can see the balls have fallen in the shape of a bell curve. This is the normal distribution."
   ]
  },
  {
   "attachments": {},
   "cell_type": "markdown",
   "metadata": {},
   "source": [
    "#### Z-transform (Z-преобразование)\n",
    "\n",
    "Z-transform is a mathematical operation that is used to transform a function into a new function. It is used to find the Fourier transform of a function, which is a way to analyze the frequency of the function.\n",
    "In other words, Z-transformation is a statistical technique that is used to standardize a set of numerical data by transforming the data into z-scores. A z-score is a measure of the number of standard deviations that a value is above or below the mean of the data set. Z-transformation is useful for comparing values from different data sets or for comparing values that have different units of measurement.\n",
    "\n",
    "The formula for calculating the z-score of a value x in a data set with mean μ and standard deviation σ is as follows:\n",
    "\n",
    "$$\n",
    "z = \\frac{x - \\mu}{\\sigma}\n",
    "$$\n",
    "\n",
    "<img src=\"https://i.imgur.com/eidONi5.png\" width=\"300\" />\n",
    "\n",
    "Here, z is the z-score of the value x, μ is the mean of the data set, and σ is the standard deviation of the data set. The z-score is calculated by subtracting the mean from the value, dividing by the standard deviation, and expressing the result as a number of standard deviations.\n",
    "\n",
    "For example, if the mean of a data set is 100 and the standard deviation is 10, the z-score of a value of 120 can be calculated as follows:\n",
    "\n",
    "$$\n",
    "z = \\frac{120 - 100}{10} = 2\n",
    "$$\n",
    "\n",
    "The result is the z-score of the value 120, which is 2 standard deviations above the mean.\n",
    "\n",
    "Z-transformation is a useful technique for standardizing data and for making comparisons between values from different data sets or with different units of measurement. It allows you to express the values in a data set as a common unit of measurement (i.e. standard deviations) and to compare the values in a meaningful way.\n",
    "\n",
    "<iframe width=\"560\" height=\"315\" src=\"https://www.youtube.com/embed/2tuBREK_mgE\" title=\"YouTube video player\" frameborder=\"0\" allow=\"accelerometer; autoplay; clipboard-write; encrypted-media; gyroscope; picture-in-picture\" allowfullscreen></iframe>"
   ]
  },
  {
   "attachments": {},
   "cell_type": "markdown",
   "metadata": {},
   "source": [
    "Table of statitical notations to avoid confusions: \n",
    "\n",
    "<img src=\"https://ucarecdn.com/7d919290-dd87-4d4d-a89d-005d6ff1b44e/\" width=\"700\" />"
   ]
  },
  {
   "attachments": {},
   "cell_type": "markdown",
   "metadata": {},
   "source": [
    "To visualize the effect of z-transformation on a data set in Python, you can use the matplotlib.pyplot library to create a histogram of the original data and a histogram of the z-scores. Here is an example of how you can visualize the effect of z-transformation in Python:"
   ]
  },
  {
   "cell_type": "code",
   "execution_count": 88,
   "metadata": {},
   "outputs": [
    {
     "data": {
      "image/png": "[encoded data removed]",
      "text/plain": [
       "<Figure size 1000x500 with 2 Axes>"
      ]
     },
     "metadata": {},
     "output_type": "display_data"
    }
   ],
   "source": [
    "import matplotlib.pyplot as plt\n",
    "import numpy as np\n",
    "\n",
    "# Define a data set\n",
    "data = np.array([157, 159, 161, 164, 165, 166, 167, 167, 167, 168, 169, 169, 170, 170, 170, 171, 171, 172, 172, 172, 172, 173, 173, 175, 175, 177, 178, 178, 179, 185])\n",
    "\n",
    "# Calculate the mean and standard deviation of the data\n",
    "mean = np.mean(data)\n",
    "std = np.std(data)\n",
    "\n",
    "# Calculate the z-scores of the data\n",
    "z_scores = (data - mean) / std\n",
    "\n",
    "# Create a figure and two subplots\n",
    "fig, (ax1, ax2) = plt.subplots(nrows=1, ncols=2, figsize=(10, 5))\n",
    "\n",
    "# Plot the original data\n",
    "ax1.hist(data)\n",
    "ax1.set_title('Original Data')\n",
    "\n",
    "# Plot the z-scores\n",
    "ax2.hist(z_scores)\n",
    "ax2.set_title('Z-Scores')\n",
    "\n",
    "# Show the plot\n",
    "plt.show()\n"
   ]
  },
  {
   "attachments": {},
   "cell_type": "markdown",
   "metadata": {},
   "source": [
    "We can also try the same with a generated data set.\n",
    "\n",
    "To generate a random array with a normal distribution in Python, you can use the random.normalvariate() function from the random module. Here is an example of how you can use this function to generate a random array with a normal distribution with 1000 random values:"
   ]
  },
  {
   "cell_type": "code",
   "execution_count": 110,
   "metadata": {},
   "outputs": [],
   "source": [
    "import random\n",
    "\n",
    "# Define the range and size of the array\n",
    "mean = 69\n",
    "sdev = 420\n",
    "size = 1000\n",
    "\n",
    "# Generate the array with random values from a normal distribution\n",
    "array = [random.normalvariate(mean, sdev) for i in range(size)]"
   ]
  },
  {
   "attachments": {},
   "cell_type": "markdown",
   "metadata": {},
   "source": [
    "And now we can pass this array to the previous code and see what happens:"
   ]
  },
  {
   "cell_type": "code",
   "execution_count": 111,
   "metadata": {},
   "outputs": [
    {
     "data": {
      "image/png": "[encoded data removed]",
      "text/plain": [
       "<Figure size 1000x500 with 2 Axes>"
      ]
     },
     "metadata": {},
     "output_type": "display_data"
    }
   ],
   "source": [
    "# Define a data set\n",
    "data = array\n",
    "\n",
    "# Calculate the mean and standard deviation of the data\n",
    "mean = np.mean(data)\n",
    "std = np.std(data)\n",
    "\n",
    "# Calculate the z-scores of the data\n",
    "z_scores = (data - mean) / std\n",
    "\n",
    "# Create a figure and two subplots\n",
    "fig, (ax1, ax2) = plt.subplots(nrows=1, ncols=2, figsize=(10, 5))\n",
    "\n",
    "# Plot the original data\n",
    "ax1.hist(data)\n",
    "ax1.set_title('Original Data')\n",
    "\n",
    "# Plot the z-scores\n",
    "ax2.hist(z_scores)\n",
    "ax2.set_title('Z-Scores')\n",
    "\n",
    "# Show the plot\n",
    "plt.show()"
   ]
  },
  {
   "attachments": {},
   "cell_type": "markdown",
   "metadata": {},
   "source": [
    "To calculate the z-score of a data point in a dataset, you need to first calculate the mean and standard deviation of the data. The z-score is then calculated by subtracting the mean from the value, dividing by the standard deviation, and expressing the result as a number of standard deviations.\n",
    "\n",
    "Here is an example of how to calculate the z-score of a value x in a dataset with mean mu and standard deviation sigma in Python:"
   ]
  },
  {
   "cell_type": "code",
   "execution_count": 117,
   "metadata": {},
   "outputs": [
    {
     "name": "stdout",
     "output_type": "stream",
     "text": [
      "Z-score:  0.011123994593334645\n"
     ]
    }
   ],
   "source": [
    "# Import the NumPy library\n",
    "import numpy as np\n",
    "\n",
    "# Define the dataset\n",
    "data = array\n",
    "\n",
    "# Calculate the mean and standard deviation of the data\n",
    "mean = np.mean(data)\n",
    "std = np.std(data)\n",
    "\n",
    "# Define the value for which we want to calculate the z-score\n",
    "x = 69\n",
    "\n",
    "# Calculate the z-score of the value\n",
    "z = (x - mean) / std\n",
    "\n",
    "print(\"Z-score: \", z)"
   ]
  },
  {
   "attachments": {},
   "cell_type": "markdown",
   "metadata": {},
   "source": [
    "> Can z-score be higher than 3?\n",
    "\n",
    "A positive z-score says the data point is above average. A negative z-score says the data point is below average. A z-score close to 0 says the data point is close to average. \n",
    "So yes, a data point can be considered unusual if its z-score is above 3 or below −3."
   ]
  },
  {
   "attachments": {},
   "cell_type": "markdown",
   "metadata": {},
   "source": [
    "#### 68–95–99.7 rule (Правило двух и трех сигм)\n",
    "\n",
    "The 2-sigma rule and the 3-sigma rule are statistical rules that describe the relationship between the mean and standard deviation of a data set and the percentage of data points that lie within a certain number of standard deviations of the mean\n",
    "\n",
    "<img src=\"http://1.bp.blogspot.com/-ZQDEux6f4WA/TmOvBUZIXII/AAAAAAAAAQc/bY2qpqGPLKY/s1600/Rags+23.gif\" width=\"500\" />\n",
    "\n",
    "The 2-sigma rule states that approximately 95% of the data points in a data set will lie within 2 standard deviations of the mean. This means that if you calculate the z-scores of all the data points in the data set and plot them on a graph, approximately 95% of the data points will have z-scores between -2 and 2. The formula for the 2-sigma rule is as follows:\n",
    "\n",
    "$$\n",
    "P(\\mu - 2\\sigma \\leq x \\leq \\mu + 2\\sigma) = 0.95\n",
    "$$\n",
    "\n",
    "Here, x is a data point in the data set, μ is the mean of the data set, and σ is the standard deviation of the data set. The 2-sigma rule states that the probability of a data point x falling within 2 standard deviations of the mean is approximately 0.95.\n",
    "\n",
    "The 3-sigma rule is similar to the 2-sigma rule, but it states that approximately 99.7% of the data points in a data set will lie within 3 standard deviations of the mean. This means that if you calculate the z-scores of all the data points in the data set and plot them on a graph, approximately 99.7% of the data points will have z-scores between -3 and 3. The formula for the 3-sigma rule is as follows:\n",
    "\n",
    "$$\n",
    "P(\\mu - 3\\sigma \\leq x \\leq \\mu + 3\\sigma) = 0.997\n",
    "$$\n"
   ]
  },
  {
   "attachments": {},
   "cell_type": "markdown",
   "metadata": {},
   "source": [
    "##### Practice\n",
    "\n",
    "What is the % of data points that lie beyond a certain data point?\n",
    "\n",
    "<img src=\"https://i.imgur.com/YLygVXT.png\" width=\"700\" />"
   ]
  },
  {
   "attachments": {},
   "cell_type": "markdown",
   "metadata": {},
   "source": [
    "This can be calculated using scipy without looking at the table."
   ]
  },
  {
   "cell_type": "code",
   "execution_count": 121,
   "metadata": {},
   "outputs": [
    {
     "name": "stdout",
     "output_type": "stream",
     "text": [
      "The probability of finding a number higher than 154 is 30.85%\n"
     ]
    }
   ],
   "source": [
    "import scipy.stats as st\n",
    "\n",
    "point = 154\n",
    "mean = 150\n",
    "std = 8\n",
    "\n",
    "# Calculate the z-score\n",
    "z = (point - mean) / std\n",
    "\n",
    "# Calculate the probability of the z-score\n",
    "if point > mean:\n",
    "    probability_of_point = (1 - st.norm.cdf(z))\n",
    "else:\n",
    "    probability_of_point = (st.norm.cdf(z))\n",
    "\n",
    "# Round the probability to 2 decimal places    \n",
    "prob = round(probability_of_point*100, 2)\n",
    "\n",
    "print(\"The probability of finding a number higher than 154 is {}%\".format(prob))"
   ]
  },
  {
   "attachments": {},
   "cell_type": "markdown",
   "metadata": {},
   "source": [
    "**How to calculate the range in which 95% of the data points lie?**\n",
    " > Given the mean=100 and variance=25.\n",
    "\n",
    "To calculate the range in which 95% of the data points lie in a data set with a mean of 100 and a variance of 25, you can use the following steps:\n",
    "\n",
    "- Calculate the standard deviation of the data set by taking the square root of the variance. The formula for standard deviation is σ = √variance, so in this case, the standard deviation is σ = √25 = 5.\n",
    "- Use the 2-sigma rule to determine the range of values within 2 standard deviations of the mean. The 2-sigma rule states that approximately 95% of the data points in a data set will lie within 2 standard deviations of the mean, so if the standard deviation is 5, the range of values within 2 standard deviations of the mean is mean ± 2 * standard deviation = 100 ± 2 * 5 = 90 to 110.\n",
    "- The range of values within 2 standard deviations of the mean is the range in which 95% of the data points lie. In this case, the range is 90 to 110, which means that approximately 95% of the data points in the data set will have a value between 90 and 110.\n",
    "  \n",
    "You can use these steps to calculate the range in which 95% of the data points lie in a data set with a given mean and variance. The exact range will depend on the mean and variance of the data set."
   ]
  },
  {
   "attachments": {},
   "cell_type": "markdown",
   "metadata": {},
   "source": [
    "To calculate the range in which 95% of data points lie in Python, you can use the norm.interval method from the scipy.stats module. This method takes the mean and standard deviation of the data as input, and returns the lower and upper bounds of the range within which the specified percentage of the data lies."
   ]
  },
  {
   "cell_type": "code",
   "execution_count": 126,
   "metadata": {},
   "outputs": [
    {
     "name": "stdout",
     "output_type": "stream",
     "text": [
      "The range within which 95% of the data points lie is 90 to 110\n"
     ]
    }
   ],
   "source": [
    "from scipy.stats import norm\n",
    "\n",
    "mean = 100\n",
    "variance = 25\n",
    "stdev = get_sqrt(variance)\n",
    "\n",
    "lower, upper = norm.interval(0.95, loc=mean, scale=stdev)\n",
    "\n",
    "print(f'The range within which 95% of the data points lie is {round(lower)} to {round(upper)}')"
   ]
  },
  {
   "attachments": {},
   "cell_type": "markdown",
   "metadata": {},
   "source": [
    "**Calculate the % of people have IQ > 120**\n",
    "\n",
    "IQ is a measure of intelligence. The average IQ is 100, and the standard deviation is 15. The 2-sigma rule states that approximately 95% of the data points in a data set will lie within 2 standard deviations of the mean.\n",
    "> M=100, SD=15"
   ]
  },
  {
   "cell_type": "code",
   "execution_count": 156,
   "metadata": {},
   "outputs": [
    {
     "name": "stdout",
     "output_type": "stream",
     "text": [
      "The probability of finding a person with IQ > 125 is 4.78%\n"
     ]
    }
   ],
   "source": [
    "import scipy.stats as st\n",
    "\n",
    "point = 125\n",
    "mean = 100\n",
    "std = 15\n",
    "\n",
    "# Calculate the z-score\n",
    "z = (point - mean) / std\n",
    "\n",
    "# Calculate the probability of the z-score\n",
    "if point > mean:\n",
    "    probability_of_point = (1 - st.norm.cdf(z))\n",
    "else:\n",
    "    probability_of_point = (st.norm.cdf(z))\n",
    "\n",
    "# Round the probability \n",
    "prob = round(probability_of_point*100, 2)\n",
    "\n",
    "print(\"The probability of finding a person with IQ > 125 is {}%\".format(prob))"
   ]
  },
  {
   "attachments": {},
   "cell_type": "markdown",
   "metadata": {},
   "source": [
    "<img src=\"https://i.imgur.com/BRjLH4B.png\" width=\"500\" />"
   ]
  },
  {
   "attachments": {},
   "cell_type": "markdown",
   "metadata": {},
   "source": [
    "**Calculate the % of people have IQ between 70 and 112**\n",
    "> M=100, SD=15, in range 70-112\n",
    "\n",
    "Logic of the solution:\n",
    "- Find the z-score of 70 and 112\n",
    "- Find the probability of the z-score of <70 and >112\n",
    "- Substract the sum of the probabilities from 100%"
   ]
  },
  {
   "cell_type": "code",
   "execution_count": 166,
   "metadata": {},
   "outputs": [
    {
     "name": "stdout",
     "output_type": "stream",
     "text": [
      "The probability of finding a person with IQ < 70 is 2.28%\n",
      "The probability of finding a person with IQ > 112 is 21.19%\n",
      "The probability of finding a person with IQ between 70 and 112 is 76.53%\n"
     ]
    }
   ],
   "source": [
    "import scipy.stats as st\n",
    "\n",
    "# CALCULATION OF PROBABILITY TO FIND A PERSON WITH IQ < 70\n",
    "\n",
    "point = 70\n",
    "mean = 100\n",
    "std = 15\n",
    "\n",
    "# Calculate the z-score\n",
    "z = (point - mean) / std\n",
    "\n",
    "# Calculate the probability of the z-score\n",
    "if point > mean:\n",
    "    probability_of_point = (1 - st.norm.cdf(z))\n",
    "else:\n",
    "    probability_of_point = (st.norm.cdf(z))\n",
    "\n",
    "# Round the probability \n",
    "prob1 = round(probability_of_point*100, 2)\n",
    "\n",
    "# Print the probability1\n",
    "print(\"The probability of finding a person with IQ < 70 is {}%\".format(prob1))\n",
    "\n",
    "\n",
    "# CALCULATION OF PROBABILITY TO FIND A PERSON WITH IQ > 112\n",
    "\n",
    "point = 112\n",
    "\n",
    "# Calculate the z-score\n",
    "z = (point - mean) / std\n",
    "\n",
    "# Calculate the probability of the z-score\n",
    "if point > mean:\n",
    "    probability_of_point = (1 - st.norm.cdf(z))\n",
    "else:\n",
    "    probability_of_point = (st.norm.cdf(z))\n",
    "\n",
    "# Round the probability \n",
    "prob2 = round(probability_of_point*100, 2)\n",
    "\n",
    "# Print the probability2\n",
    "print(\"The probability of finding a person with IQ > 112 is {}%\".format(prob2))\n",
    "\n",
    "# Calculate the probability of finding a person with IQ between 70 and 112\n",
    "range_prob = 100 - prob1 - prob2\n",
    "\n",
    "# Print the probability of finding a person with IQ between 70 and 112\n",
    "print(\"The probability of finding a person with IQ between 70 and 112 is {}%\".format(range_prob))"
   ]
  },
  {
   "attachments": {},
   "cell_type": "markdown",
   "metadata": {},
   "source": [
    "<img src=\"https://i.imgur.com/p92RkEl.png\" width=\"500\" />"
   ]
  },
  {
   "attachments": {},
   "cell_type": "markdown",
   "metadata": {},
   "source": [
    "### Central limit theorem (Центральная предельная теорема)"
   ]
  },
  {
   "attachments": {},
   "cell_type": "markdown",
   "metadata": {},
   "source": [
    "### Confidence interval (Доверительный интервал)"
   ]
  },
  {
   "attachments": {},
   "cell_type": "markdown",
   "metadata": {},
   "source": [
    "### Statistical inference, p-value (Идея статистического вывода, p-уровень значимости)"
   ]
  },
  {
   "attachments": {},
   "cell_type": "markdown",
   "metadata": {},
   "source": [
    "## Comparison of datasets (Сравнение наборов данных)"
   ]
  },
  {
   "attachments": {},
   "cell_type": "markdown",
   "metadata": {},
   "source": [
    "## Correlation and regression (Корреляция и регрессия)"
   ]
  }
 ],
 "metadata": {
  "kernelspec": {
   "display_name": "Python 3",
   "language": "python",
   "name": "python3"
  },
  "language_info": {
   "codemirror_mode": {
    "name": "ipython",
    "version": 3
   },
   "file_extension": ".py",
   "mimetype": "text/x-python",
   "name": "python",
   "nbconvert_exporter": "python",
   "pygments_lexer": "ipython3",
   "version": "3.10.9"
  },
  "orig_nbformat": 4,
  "vscode": {
   "interpreter": {
    "hash": "cdaf845c447f5b8a88f1bde010b8054a6111556832cc2133cdddd7f2255dae56"
   }
  }
 },
 "nbformat": 4,
 "nbformat_minor": 2
}
