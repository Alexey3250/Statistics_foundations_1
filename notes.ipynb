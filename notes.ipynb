{
 "cells": [
  {
   "cell_type": "markdown",
   "metadata": {},
   "source": [
    "# Statistics foundations 1\n",
    "Authour of the course: [Anatoliy Karpov](https://stepik.org/users/37659)\n",
    "Link for the course: [Statistics foundations 1](https://stepik.org/course/76)\n",
    "Author of the notes (me): [Alexey Efimik](https://www.linkedin.com/in/efimik/)\n",
    "\n",
    "The original course is in Russian, but the notes are in English for no particular reason.\n",
    "\n",
    "## Table of contents\n",
    "\n",
    "## Introduction\n",
    "\n",
    "### General populaton & sample (Выборка и генеральная совокупность)\n",
    "\n",
    "- **General population** - is a set of all objects that we are interested in.\n",
    "- **Sample** - is a subset of general population.\n",
    "\n",
    "Population & sample \n",
    "https://ucarecdn.com/a7ce60d5-75dd-4e79-8d80-76b835481986/-/crop/814x419/42,0/-/preview/\n",
    "\n",
    "### Sampling methods (Методы выборки)\n",
    "\n",
    "![Sampling Methods](https://www.qualtrics.com/m/assets/uk/wp-content/uploads/2022/02/SystemicRandomSamplingRefresh_01-560x315_060722.png)\n",
    "\n",
    "- **Simple random sampling** - is a method of sampling where each element of the population has an equal chance of being selected.\n",
    "- **Stratified sampling** - is a method of sampling where the population is divided into groups (strata) and a random sample is selected from each group.\n",
    "- **Cluster sampling** - is a method of sampling where the population is divided into groups (clusters) and a random sample is selected from each group.\n",
    "- **Systematic sampling** - is a method of sampling where researchers select every kth element from the population.\n",
    "\n",
    "### Types of variables. Quantitative & qualitative variables (Типы переменных. Количественные и качественные переменные)\n",
    "\n",
    "#### Types of variables\n",
    "\n",
    "- **Quantitative variables (качественные переменные)** - are variables that can be measured on a numerical scale. *(ex. height, weight, age, etc.)*\n",
    "  - Discrete variables - are variables that can only take on certain values. *(ex. number of children, number of cars, etc.)*\n",
    "  - Continuous variables - are variables that can take on any value within a range. *(ex. height, weight, age, etc.)*\n",
    "- **Nominal variables** (qualitative, номинативные) - are variables that can be placed into categories, but the categories cannot be ordered or ranked. *(ex. ‘gender’)*\n",
    "\n",
    "### Measures of central tendency (Меры центральной тенденции)\n",
    "\n",
    "#### Glossary\n",
    "\n",
    "**Emperical data** - is data that is collected by observation or experiment.\n",
    "\n",
    "**Descriptive statistics** - is a branch of statistics that deals with the collection, organization, and presentation of data. It is used to summarize large amounts of information in a meaningful way.\n",
    "\n",
    "Descriptive statistics is devided into two parts:\n",
    "- **Measures of central tendency** - are measures that describe the center of a distribution.\n",
    "  - **Mean (Среднее значение)** - is the sum of all values divided by the number of values.\n",
    "  - **Median (Медиана)** - is the middle value in a sorted, ascending or descending, list of numbers.\n",
    "  - **Mode (Мода)** - is the value that occurs most frequently in a set of data.\n",
    "\n",
    "\n",
    "- **Measures of variability** - are measures that describe the spread of a distribution.\n",
    "  - **Range (Размах)** - is the difference between the largest and smallest values in a data set.\n",
    "  - **Variance (Дисперсия)** - is a measure of how spread out numbers are.\n",
    "  - **Standard deviation (Стандартное отклонение)** - is a measure of how spread out numbers are.\n",
    "  - **Coefficient of variation (Коэффициент вариации)** - is a measure of how spread out numbers are.\n",
    "  - **Cumulative distribution function (Функция распределения)** - is a function that gives the probability that a variable takes a value less than or equal to x.\n",
    "  - **Percentile (Процентиль)** - is a measure used in statistics indicating the value below which a given percentage of observations in a group of observations fall.\n",
    "  - **Quartile (Квартиль)** - is a type of quantile, which is a measure used in statistics indicating the value below which a given percentage of observations in a group of observations fall.\n",
    "  - **Interquartile range (Межквартильный размах)** - is a measure of statistical dispersion, being equal to the difference between 75th and 25th percentiles, or between upper and lower quartiles, IQR = Q3 − Q1.\n",
    "  - **Outlier (Выброс)** - is an observation point that is distant from other observations.\n",
    "  - **Skewness (Асимметрия)** - is a measure of the asymmetry of the probability distribution of a real-valued random variable about its mean.\n",
    "  - **Kurtosis (Эксцесс)** - is a measure of whether the data are heavy-tailed or light-tailed relative to a normal distribution\n",
    "  - **Normal distribution (Нормальное распределение)** - is a type of continuous probability distribution for a real-valued random variable.\n",
    "  - **Standard normal distribution (Стандартное нормальное распределение)** - is a normal distribution with a mean of 0 and a standard deviation of 1.\n",
    "  - **Z-score (Z-оценка)** - is the signed number of standard deviations by which the value of an observation or data point is above the mean value of what is being observed or measured.\n",
    "  - **Probability distribution (Распределение вероятностей)** - is a function that gives the probabilities of occurrence of different possible outcomes in an experiment. Or, in other words, it is a function that describes the possible values that a random variable can take and the corresponding probabilities of these values.\n",
    "  - **Probability density function (Функция плотности вероятности или гистограмма частот)** - is a function that describes the relative likelihood for this value or any value around it to be drawn from the population.\n",
    "\n",
    "![Glossary](https://www.oreilly.com/api/v2/epubs/9789332558229/files/images/sym1.png)\n",
    "![Glossary](https://www.oreilly.com/api/v2/epubs/9789332558229/files/images/sym2.png)\n",
    "![Glossary](https://www.oreilly.com/api/v2/epubs/9789332558229/files/images/sym3.png)"
   ]
  },
  {
   "attachments": {},
   "cell_type": "markdown",
   "metadata": {},
   "source": [
    "#### Measure of central tendency\n",
    "\n",
    "<img src=\"https://cdn1.byjus.com/wp-content/uploads/2022/09/Measures-Of-Central-Tendency-Mean-Median-and-Mode.png\" width=\"500\" />\n",
    "\n",
    "##### Mode (Мода)\n",
    "Mode is the value that occurs most frequently in a set of data.\n",
    "Mode symbol is Mo.\n",
    "\n",
    "<img src=\"https://www.investopedia.com/thmb/IH5tSGbNWueW5UqM_-0CiX09It4=/1500x0/filters:no_upscale():max_bytes(150000):strip_icc()/TermDefinitions_Mode_finalv1-47730ee52da642a89ac308af6ba76c80.png\" width=\"500\" />\n",
    "\n",
    "###### Example"
   ]
  },
  {
   "cell_type": "code",
   "execution_count": 25,
   "metadata": {},
   "outputs": [
    {
     "name": "stdout",
     "output_type": "stream",
     "text": [
      "DescribeResult(nobs=1000, minmax=(-2.837541920293874, 3.3311371933613914), mean=-0.046802428512429516, variance=0.9597789476090346, skewness=0.027633616180620713, kurtosis=0.09299058252192971)\n"
     ]
    }
   ],
   "source": [
    "from scipy import stats\n",
    "import numpy as np\n",
    "\n",
    "# create a random array of 1000 numbers\n",
    "a = np.random.normal(0, 1, 1000)\n",
    "\n",
    "print(stats.describe(a))"
   ]
  },
  {
   "attachments": {},
   "cell_type": "markdown",
   "metadata": {},
   "source": [
    "- Variance (Дисперсия) is a measure of how spread out numbers are.\n",
    "  - Variance symbol is σ2.\n",
    "  - Variance formula is \n",
    "- Skewness (Асимметрия) is a measure of the asymmetry of the probability distribution of a real-valued random variable about its mean.\n",
    "- Kurtosis (Эксцесс) is a measure of whether the data are heavy-tailed or light-tailed relative to a normal distribution.\n",
    "- Nobs (Число наблюдений) is the number of observations.\n",
    "- minmax (Минимум и максимум) is the minimum and maximum values.\n",
    "\n",
    "> **Note:** Not sure what is the difference between variance and standard deviation? Check out this [article](https://www.statisticshowto.com/probability-and-statistics/standard-deviation/)."
   ]
  },
  {
   "attachments": {},
   "cell_type": "markdown",
   "metadata": {},
   "source": [
    "#### Variance (Дисперсия)\n",
    "\n",
    "The variance of a dataset can be calculated using the following formula:\n",
    "\n",
    "$$ variance = \\frac{\\sum_{i=1}^{n} (x_i - \\mu)^2}{n} $$\n",
    "\n",
    "where $x_i$ is the $i$th value in the dataset, $\\mu$ is the mean of the dataset, and $n$ is the number of values in the dataset.\n",
    "\n",
    "This formula can be interpreted as:\n",
    "\n",
    "Subtract the mean from each value in the dataset to calculate the deviations from the mean.\n",
    "Square each deviation to remove the signs (positive and negative) and make all values positive.\n",
    "Sum all the squared deviations.\n",
    "Divide the sum of the squared deviations by the number of values in the dataset to calculate the variance.\n",
    "The variance measures how spread out the values in a dataset are. A low variance indicates that the values in the dataset are clustered close to the mean, while a high variance indicates that the values are more spread out."
   ]
  },
  {
   "attachments": {},
   "cell_type": "markdown",
   "metadata": {},
   "source": [
    "To render the probability distribution of these numbers using matplotlib, you can use the hist() function from the pyplot module. For example:"
   ]
  },
  {
   "attachments": {},
   "cell_type": "markdown",
   "metadata": {},
   "source": [
    "##### Visualizing the variance\n",
    "To visualize the variance of a random array using matplotlib, you can use the boxplot() function from the pyplot module. This function generates a boxplot, which is a useful way to visualize the variance of a dataset.\n",
    "\n",
    "First, import the matplotlib.pyplot module and use the boxplot() function to generate a boxplot of the array.\n",
    "\n",
    "To highlight the variance of the data, you can add a title and labels to the plot using the title(), xlabel(), and ylabel() functions."
   ]
  },
  {
   "cell_type": "code",
   "execution_count": 30,
   "metadata": {},
   "outputs": [
    {
     "data": {
      "image/png": "[encoded data removed]",
      "text/plain": [
       "<Figure size 640x480 with 1 Axes>"
      ]
     },
     "metadata": {},
     "output_type": "display_data"
    }
   ],
   "source": [
    "# Add a title and labels to the plot\n",
    "plt.title(\"Variance of Random Numbers\")\n",
    "plt.xlabel(\"Numbers\")\n",
    "plt.ylabel(\"Variance\")\n",
    "\n",
    "# Generate a boxplot of the array\n",
    "plt.boxplot(a)\n",
    "\n",
    "# Show the plot\n",
    "plt.show()"
   ]
  },
  {
   "attachments": {},
   "cell_type": "markdown",
   "metadata": {},
   "source": [
    "This will generate a boxplot that shows the variance of the random numbers. The box in the plot represents the interquartile range of the data, which indicates how spread out the middle 50% of the data is. The whiskers of the plot extend to the minimum and maximum values of the data, which gives an idea of the overall range of the data."
   ]
  }
 ],
 "metadata": {
  "kernelspec": {
   "display_name": "Python 3",
   "language": "python",
   "name": "python3"
  },
  "language_info": {
   "codemirror_mode": {
    "name": "ipython",
    "version": 3
   },
   "file_extension": ".py",
   "mimetype": "text/x-python",
   "name": "python",
   "nbconvert_exporter": "python",
   "pygments_lexer": "ipython3",
   "version": "3.10.9"
  },
  "orig_nbformat": 4,
  "vscode": {
   "interpreter": {
    "hash": "cdaf845c447f5b8a88f1bde010b8054a6111556832cc2133cdddd7f2255dae56"
   }
  }
 },
 "nbformat": 4,
 "nbformat_minor": 2
}
