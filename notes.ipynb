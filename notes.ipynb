{
 "cells": [
  {
   "cell_type": "markdown",
   "metadata": {},
   "source": [
    "# Statistics foundations 1\n",
    "Authour of the course: [Anatoliy Karpov](https://stepik.org/users/37659)\n",
    "Link for the course: [Statistics foundations 1](https://stepik.org/course/76)\n",
    "Author of the notes (me): [Alexey Efimik](https://www.linkedin.com/in/efimik/)\n",
    "\n",
    "The original course is in Russian, but the notes are in English for no particular reason.\n",
    "\n",
    "## Table of contents\n",
    "\n",
    "## General populaton & sample (Выборка и генеральная совокупность)\n",
    "- **General population** - is a set of all objects that we are interested in.\n",
    "- **Sample** - is a subset of general population.\n",
    "\n",
    "Population & sample \n",
    "https://ucarecdn.com/a7ce60d5-75dd-4e79-8d80-76b835481986/-/crop/814x419/42,0/-/preview/\n",
    "\n",
    "\n"
   ]
  }
 ],
 "metadata": {
  "language_info": {
   "name": "python"
  },
  "orig_nbformat": 4
 },
 "nbformat": 4,
 "nbformat_minor": 2
}
