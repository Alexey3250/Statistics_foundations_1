{
 "cells": [
  {
   "cell_type": "markdown",
   "metadata": {},
   "source": [
    "# Statistics foundations 1\n",
    "Authour of the course: [Anatoliy Karpov](https://stepik.org/users/37659)\n",
    "Link for the course: [Statistics foundations 1](https://stepik.org/course/76)\n",
    "Author of the notes (me): [Alexey Efimik](https://www.linkedin.com/in/efimik/)\n",
    "\n",
    "The original course is in Russian, but the notes are in English for no particular reason.\n",
    "\n",
    "## Table of contents\n",
    "\n",
    "## Introduction\n",
    "\n",
    "### General populaton & sample (Выборка и генеральная совокупность)\n",
    "- **General population** - is a set of all objects that we are interested in.\n",
    "- **Sample** - is a subset of general population.\n",
    "\n",
    "Population & sample \n",
    "https://ucarecdn.com/a7ce60d5-75dd-4e79-8d80-76b835481986/-/crop/814x419/42,0/-/preview/\n",
    "\n",
    "### Sampling methods (Методы выборки)\n",
    "![Sampling Methods](https://www.qualtrics.com/m/assets/uk/wp-content/uploads/2022/02/SystemicRandomSamplingRefresh_01-560x315_060722.png)\n",
    "- **Simple random sampling** - is a method of sampling where each element of the population has an equal chance of being selected.\n",
    "- **Stratified sampling** - is a method of sampling where the population is divided into groups (strata) and a random sample is selected from each group.\n",
    "- **Cluster sampling** - is a method of sampling where the population is divided into groups (clusters) and a random sample is selected from each group.\n",
    "- **Systematic sampling** - is a method of sampling where researchers select every kth element from the population.\n",
    "\n",
    "\n"
   ]
  }
 ],
 "metadata": {
  "language_info": {
   "name": "python"
  },
  "orig_nbformat": 4
 },
 "nbformat": 4,
 "nbformat_minor": 2
}
