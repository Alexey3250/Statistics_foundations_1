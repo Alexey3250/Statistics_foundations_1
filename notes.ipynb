{
 "cells": [
  {
   "cell_type": "markdown",
   "metadata": {},
   "source": [
    "# Statistics foundations 1\n",
    "Authour of the course: [Anatoliy Karpov](https://stepik.org/users/37659)\n",
    "Link for the course: [Statistics foundations 1](https://stepik.org/course/76)\n",
    "Author of the notes (me): [Alexey Efimik](https://www.linkedin.com/in/efimik/)\n",
    "\n",
    "The original course is in Russian, but the notes are in English for no particular reason.\n",
    "\n",
    "## Table of contents\n",
    "\n",
    "## Introduction\n",
    "\n",
    "### General populaton & sample (Выборка и генеральная совокупность)\n",
    "\n",
    "- **General population** - is a set of all objects that we are interested in.\n",
    "- **Sample** - is a subset of general population.\n",
    "\n",
    "Population & sample \n",
    "https://ucarecdn.com/a7ce60d5-75dd-4e79-8d80-76b835481986/-/crop/814x419/42,0/-/preview/\n",
    "\n",
    "### Sampling methods (Методы выборки)\n",
    "\n",
    "![Sampling Methods](https://www.qualtrics.com/m/assets/uk/wp-content/uploads/2022/02/SystemicRandomSamplingRefresh_01-560x315_060722.png)\n",
    "\n",
    "- **Simple random sampling** - is a method of sampling where each element of the population has an equal chance of being selected.\n",
    "- **Stratified sampling** - is a method of sampling where the population is divided into groups (strata) and a random sample is selected from each group.\n",
    "- **Cluster sampling** - is a method of sampling where the population is divided into groups (clusters) and a random sample is selected from each group.\n",
    "- **Systematic sampling** - is a method of sampling where researchers select every kth element from the population.\n",
    "\n",
    "### Types of variables. Quantitative & qualitative variables (Типы переменных. Количественные и качественные переменные)\n",
    "\n",
    "#### Types of variables\n",
    "\n",
    "- **Quantitative variables (качественные переменные)** - are variables that can be measured on a numerical scale. *(ex. height, weight, age, etc.)*\n",
    "  - Discrete variables - are variables that can only take on certain values. *(ex. number of children, number of cars, etc.)*\n",
    "  - Continuous variables - are variables that can take on any value within a range. *(ex. height, weight, age, etc.)*\n",
    "- **Nominal variables** (qualitative, номинативные) - are variables that can be placed into categories, but the categories cannot be ordered or ranked. *(ex. ‘gender’)*\n",
    "\n",
    "### Measures of central tendency (Меры центральной тенденции)\n",
    "\n",
    "#### Glossary\n",
    "\n",
    "**Emperical data** - is data that is collected by observation or experiment.\n",
    "\n",
    "**Descriptive statistics** - is a branch of statistics that deals with the collection, organization, and presentation of data. It is used to summarize large amounts of information in a meaningful way.\n",
    "\n",
    "Descriptive statistics is devided into two parts:\n",
    "- **Measures of central tendency** - are measures that describe the center of a distribution.\n",
    "  - **Mean (Среднее значение)** - is the sum of all values divided by the number of values.\n",
    "  - **Median (Медиана)** - is the middle value in a sorted, ascending or descending, list of numbers.\n",
    "  - **Mode (Мода)** - is the value that occurs most frequently in a set of data.\n",
    "\n",
    "\n",
    "- **Measures of variability** - are measures that describe the spread of a distribution.\n",
    "  - **Range (Размах)** - is the difference between the largest and smallest values in a data set.\n",
    "  - **Variance (Дисперсия)** - is a measure of how spread out numbers are.\n",
    "  - **Standard deviation (Стандартное отклонение)** - is a measure of how spread out numbers are.\n",
    "  - **Coefficient of variation (Коэффициент вариации)** - is a measure of how spread out numbers are.\n",
    "  - **Cumulative distribution function (Функция распределения)** - is a function that gives the probability that a variable takes a value less than or equal to x.\n",
    "  - **Percentile (Процентиль)** - is a measure used in statistics indicating the value below which a given percentage of observations in a group of observations fall.\n",
    "  - **Quartile (Квартиль)** - is a type of quantile, which is a measure used in statistics indicating the value below which a given percentage of observations in a group of observations fall.\n",
    "  - **Interquartile range (Межквартильный размах)** - is a measure of statistical dispersion, being equal to the difference between 75th and 25th percentiles, or between upper and lower quartiles, IQR = Q3 − Q1.\n",
    "  - **Outlier (Выброс)** - is an observation point that is distant from other observations.\n",
    "  - **Skewness (Асимметрия)** - is a measure of the asymmetry of the probability distribution of a real-valued random variable about its mean.\n",
    "  - **Kurtosis (Эксцесс)** - is a measure of whether the data are heavy-tailed or light-tailed relative to a normal distribution\n",
    "  - **Normal distribution (Нормальное распределение)** - is a type of continuous probability distribution for a real-valued random variable.\n",
    "  - **Standard normal distribution (Стандартное нормальное распределение)** - is a normal distribution with a mean of 0 and a standard deviation of 1.\n",
    "  - **Z-score (Z-оценка)** - is the signed number of standard deviations by which the value of an observation or data point is above the mean value of what is being observed or measured.\n",
    "  - **Probability distribution (Распределение вероятностей)** - is a function that gives the probabilities of occurrence of different possible outcomes in an experiment. Or, in other words, it is a function that describes the possible values that a random variable can take and the corresponding probabilities of these values.\n",
    "  - **Probability density function (Функция плотности вероятности или гистограмма частот)** - is a function that describes the relative likelihood for this value or any value around it to be drawn from the population.\n",
    "\n",
    "![Glossary](https://www.oreilly.com/api/v2/epubs/9789332558229/files/images/sym1.png)\n",
    "![Glossary](https://www.oreilly.com/api/v2/epubs/9789332558229/files/images/sym2.png)\n",
    "![Glossary](https://www.oreilly.com/api/v2/epubs/9789332558229/files/images/sym3.png)"
   ]
  },
  {
   "attachments": {},
   "cell_type": "markdown",
   "metadata": {},
   "source": [
    "#### Measure of central tendency\n",
    "\n",
    "<img src=\"https://cdn1.byjus.com/wp-content/uploads/2022/09/Measures-Of-Central-Tendency-Mean-Median-and-Mode.png\" width=\"500\" />\n",
    "\n",
    "##### Mode (Мода)\n",
    "Mode is the value that occurs most frequently in a set of data.\n",
    "Mode symbol is Mo.\n",
    "\n",
    "<img src=\"https://www.investopedia.com/thmb/IH5tSGbNWueW5UqM_-0CiX09It4=/1500x0/filters:no_upscale():max_bytes(150000):strip_icc()/TermDefinitions_Mode_finalv1-47730ee52da642a89ac308af6ba76c80.png\" width=\"500\" />\n",
    "\n",
    "###### Formula for the mode\n",
    "$$\n",
    "\\text{mode} = \\max_{x \\in \\text{values}} { \\text{count}(x) }\n",
    "$$\n",
    "\n",
    "Here, values is the set of values, and count(x) is the number of times x occurs in the set. The mode is the value x that maximizes the count.\n",
    "\n",
    "For example, in the set of values {1, 2, 2, 3, 4, 4, 4}, the mode is 4 because it occurs the most frequently (3 times)."
   ]
  },
  {
   "attachments": {},
   "cell_type": "markdown",
   "metadata": {},
   "source": [
    "To find the mode we first need to generate a frequency table. The frequency table is a table that shows the number of times each value occurs in a data set."
   ]
  },
  {
   "cell_type": "code",
   "execution_count": 42,
   "metadata": {},
   "outputs": [
    {
     "name": "stdout",
     "output_type": "stream",
     "text": [
      "DescribeResult(nobs=30, minmax=(157, 185), mean=170.4, variance=36.04137931034482, skewness=-0.03244433060131143, kurtosis=0.31662406856471037)\n"
     ]
    }
   ],
   "source": [
    "from scipy import stats\n",
    "import numpy as np\n",
    "\n",
    "# create a random array of 1000 numbers\n",
    "a = np.array([185,175,170,169,171,172,175,157,170,172,167,173,168,167,166,\n",
    "              167,169,172,177,178,165,161,179,159,164,178,172,170,173,171])\n",
    "\n",
    "print(stats.describe(a))"
   ]
  },
  {
   "attachments": {},
   "cell_type": "markdown",
   "metadata": {},
   "source": [
    "- Variance (Дисперсия) is a measure of how spread out numbers are.\n",
    "  - Variance symbol is σ2.\n",
    "  - Variance formula is \n",
    "- Skewness (Асимметрия) is a measure of the asymmetry of the probability distribution of a real-valued random variable about its mean.\n",
    "- Kurtosis (Эксцесс) is a measure of whether the data are heavy-tailed or light-tailed relative to a normal distribution.\n",
    "- Nobs (Число наблюдений) is the number of observations.\n",
    "- minmax (Минимум и максимум) is the minimum and maximum values.\n",
    "\n",
    "> **Note:** Not sure what is the difference between variance and standard deviation? Check out this [article](https://www.statisticshowto.com/probability-and-statistics/standard-deviation/)."
   ]
  },
  {
   "attachments": {},
   "cell_type": "markdown",
   "metadata": {},
   "source": [
    "Lelt's visualize the frequency table for the data set.\n",
    "\n",
    "To visualize a dataset of random numbers using matplotlib, you can use the hist() function from the pyplot module. This function generates a histogram of the data, which is a useful way to visualize the distribution of the data.\n",
    "\n",
    "First, import the matplotlib.pyplot module and use the hist() function to generate a histogram of the data. For example:"
   ]
  },
  {
   "cell_type": "code",
   "execution_count": 43,
   "metadata": {},
   "outputs": [
    {
     "data": {
      "image/png": "[encoded data removed]",
      "text/plain": [
       "<Figure size 640x480 with 1 Axes>"
      ]
     },
     "metadata": {},
     "output_type": "display_data"
    }
   ],
   "source": [
    "import matplotlib.pyplot as plt\n",
    "\n",
    "# Add a title and labels to the plot\n",
    "plt.title(\"Distribution of Random Numbers\")\n",
    "plt.xlabel(\"Number\")\n",
    "plt.ylabel(\"Frequency\")\n",
    "\n",
    "# Generate a histogram of the data\n",
    "plt.hist(a)\n",
    "\n",
    "# Show the plot\n",
    "plt.show()"
   ]
  },
  {
   "attachments": {},
   "cell_type": "markdown",
   "metadata": {},
   "source": [
    "Alternatively, you can use the seaborn library to generate a more visually appealing plot. The seaborn.distplot() function can be used to plot a histogram with a smooth density curve on top of it. For example:"
   ]
  },
  {
   "cell_type": "code",
   "execution_count": 44,
   "metadata": {},
   "outputs": [
    {
     "data": {
      "text/plain": [
       "Text(0.5, 9.444444444444438, 'Number')"
      ]
     },
     "execution_count": 44,
     "metadata": {},
     "output_type": "execute_result"
    },
    {
     "data": {
      "image/png": "[encoded data removed]",
      "text/plain": [
       "<Figure size 500x500 with 1 Axes>"
      ]
     },
     "metadata": {},
     "output_type": "display_data"
    }
   ],
   "source": [
    "import seaborn as sns\n",
    "\n",
    "# Generate a histogram with a density curve\n",
    "sns.displot(a)\n",
    "\n",
    "# Add a title and labels to the plot\n",
    "plt.title(\"Distribution of Random Numbers\")\n",
    "plt.xlabel(\"Number\")\n"
   ]
  },
  {
   "attachments": {},
   "cell_type": "markdown",
   "metadata": {},
   "source": [
    "Let's calculate the mode. To calculate the mode of an array in Python, you can use the statistics.mode() function from the statistics module. Here is an example:"
   ]
  },
  {
   "cell_type": "code",
   "execution_count": 49,
   "metadata": {},
   "outputs": [
    {
     "name": "stdout",
     "output_type": "stream",
     "text": [
      "Mode: 172\n"
     ]
    }
   ],
   "source": [
    "import statistics\n",
    "\n",
    "# Calculate the mode\n",
    "mode = statistics.mode(a)\n",
    "\n",
    "# Print the mode\n",
    "print(\"Mode:\", mode)\n"
   ]
  },
  {
   "attachments": {},
   "cell_type": "markdown",
   "metadata": {},
   "source": [
    "To visualize a number with a label on a histogram in Matplotlib, you can use the plt.hist() and plt.text() functions. Here is an example of how you can do this:"
   ]
  },
  {
   "cell_type": "code",
   "execution_count": 50,
   "metadata": {},
   "outputs": [
    {
     "data": {
      "image/png": "[encoded data removed]",
      "text/plain": [
       "<Figure size 640x480 with 1 Axes>"
      ]
     },
     "metadata": {},
     "output_type": "display_data"
    }
   ],
   "source": [
    "# Calculate the count of each value in the array manually (without using a library)\n",
    "counts = {}\n",
    "for value in a:\n",
    "    if value in counts:\n",
    "        counts[value] += 1\n",
    "    else:\n",
    "        counts[value] = 1\n",
    "\n",
    "# Calculate the mode\n",
    "mode = max(counts, key=lambda x: counts[x])\n",
    "\n",
    "# Plot the histogram\n",
    "plt.hist(a)\n",
    "\n",
    "# Add the mode value as a label on the histogram\n",
    "plt.text(mode, counts[mode], str(mode))\n",
    "\n",
    "# Show the plot\n",
    "plt.show()"
   ]
  },
  {
   "attachments": {},
   "cell_type": "markdown",
   "metadata": {},
   "source": [
    "The dataset can actually have few modes."
   ]
  },
  {
   "attachments": {},
   "cell_type": "markdown",
   "metadata": {},
   "source": [
    "##### Median (Медиана)\n",
    "Median is the middle value in a data set.\n",
    "Median symbol is M.\n",
    "\n",
    "<img src=\"https://cdn1.byjus.com/wp-content/uploads/2022/10/Median.png\" width=\"500\" />\n",
    "\n",
    "In other words, it is the value that divides the higher half from the lower half of a data sample.\n",
    "\n",
    "The median of a set of values is the middle value when the values are sorted in ascending order. If the number of values is odd, the median is the middle value. If the number of values is even, the median is the average of the two middle values. The median can be found using the following formula:\n",
    "\n",
    "$$\n",
    "\\text{median} = \\begin{cases}\n",
    "\\text{sorted_values}{\\frac{\\text{n}}{2}} & \\text{if } \\text{n} \\text{ is odd} \\\n",
    "\\frac{\\text{sorted_values}{\\frac{\\text{n}}{2}} + \\text{sorted_values}_{\\frac{\\text{n}}{2} - 1}}{2} & \\text{if } \\text{n} \\text{ is even}\n",
    "\\end{cases}\n",
    "$$\n",
    "\n",
    "Here, n is the number of values in the set, and sorted_values is the set of values sorted in ascending order. The median is the middle value or the average of the two middle values, depending on whether n is odd or even.\n",
    "\n",
    "For example, in the set of values {1, 2, 2, 3, 4, 4, 4}, the median is 3 because it is the middle value when the values are sorted in ascending order. In the set of values {1, 2, 2, 3, 4, 4, 4, 5}, the median is 3.5 because it is the average of the two middle values (3 and 4) when the values are sorted in ascending order."
   ]
  },
  {
   "attachments": {},
   "cell_type": "markdown",
   "metadata": {},
   "source": [
    "To calculate and visualize the median of an array in Python, you can use the statistics.median() function from the statistics module, along with the plt.hist() and plt.axvline() functions from Matplotlib. Here is an example of how you can do this:"
   ]
  },
  {
   "cell_type": "code",
   "execution_count": 52,
   "metadata": {},
   "outputs": [
    {
     "data": {
      "image/png": "[encoded data removed]",
      "text/plain": [
       "<Figure size 640x480 with 1 Axes>"
      ]
     },
     "metadata": {},
     "output_type": "display_data"
    }
   ],
   "source": [
    "import matplotlib.pyplot as plt\n",
    "import statistics\n",
    "\n",
    "# Define an array of values\n",
    "values = np.array([185,175,170,169,171,172,175,157,170,172,167,173,168,167,166,167,169,172,177,178,165,161,179,159,164,178,172,170,173,171])\n",
    "\n",
    "# Calculate the median\n",
    "median = statistics.median(values)\n",
    "\n",
    "# Plot the histogram\n",
    "plt.hist(values, bins=4)\n",
    "\n",
    "# Add a vertical line at the median value\n",
    "plt.axvline(median, color='r', linestyle='dashed', linewidth=2)\n",
    "\n",
    "# Show the plot\n",
    "plt.show()"
   ]
  },
  {
   "attachments": {},
   "cell_type": "markdown",
   "metadata": {},
   "source": [
    "##### Mean (Среднее арифметическое)\n",
    "\n",
    "Mean is the average of all values in a data set.\n",
    "\n",
    "It can be found using the following formula:\n",
    "\n",
    "$$\n",
    "\\text{mean} = \\frac{\\sum_{i=1}^{\\text{n}} \\text{values}_i}{\\text{n}}\n",
    "$$\n",
    "\n",
    "Here, n is the number of values in the set, and values is the set of values. The mean is the sum of the values divided by the number of values.\n",
    "\n",
    "For example, in the set of values {1, 2, 2, 3, 4, 4, 4}, the mean is $\\frac{1 + 2 + 2 + 3 + 4 + 4 + 4}{7} = \\frac{20}{7} = 2.86$. This is the average value of the given set of values.\n",
    "\n",
    "To calculate and visualize the mean of an array in Python, you can use the numpy.mean() function from the numpy module, along with the plt.hist() and plt.axvline() functions from Matplotlib. Here is an example of how you can do this:"
   ]
  },
  {
   "cell_type": "code",
   "execution_count": 54,
   "metadata": {},
   "outputs": [
    {
     "data": {
      "image/png": "[encoded data removed]",
      "text/plain": [
       "<Figure size 640x480 with 1 Axes>"
      ]
     },
     "metadata": {},
     "output_type": "display_data"
    }
   ],
   "source": [
    "import matplotlib.pyplot as plt\n",
    "import numpy as np\n",
    "\n",
    "# Define an array of values\n",
    "values = np.array([185, 175, 170, 169, 171, 175, 157, 172, 170, 172, 167, 173, 168, 167, 166, 167, 169, 172, 177, 178, 165, 161, 179, 159, 164, 178, 172, 170, 173, 171])\n",
    "\n",
    "# Calculate the mean\n",
    "mean = np.mean(values)\n",
    "\n",
    "# Plot the histogram\n",
    "plt.hist(values, bins=4)\n",
    "\n",
    "# Add a vertical line at the mean value\n",
    "plt.axvline(mean, color='r', linestyle='dashed', linewidth=2)\n",
    "\n",
    "# Show the plot\n",
    "plt.show()"
   ]
  },
  {
   "attachments": {},
   "cell_type": "markdown",
   "metadata": {},
   "source": [
    "#### Why do we need to calculate mean mode and median?\n",
    "\n",
    "Mean, mode, and median are statistical measures that are commonly used to summarize a set of numerical data. These measures provide different ways of understanding the data and can be useful in different contexts.\n",
    "\n",
    "The mean, which is also known as the average, is a measure of the central tendency of the data. It is calculated by summing all the values in the data set and dividing by the number of values. The mean is useful for getting an overall sense of the data and can be used to make comparisons between different data sets.\n",
    "\n",
    "The mode is the value that occurs most frequently in the data set. It is a measure of the most common value in the data and can be useful for identifying trends or patterns in the data.\n",
    "\n",
    "The median is the middle value in a data set when the values are sorted in ascending order. It is a measure of the central tendency of the data that is not affected by extreme values. The median can be useful for identifying the typical value in a data set and for comparing data sets with different shapes.\n",
    "\n",
    "In summary, mean, mode, and median are useful tools for summarizing and analyzing numerical data. They provide different ways of understanding the data and can be used to make comparisons and identify trends and patterns."
   ]
  },
  {
   "attachments": {},
   "cell_type": "markdown",
   "metadata": {},
   "source": [
    "#### Measures of variability (Меры изменчивости)"
   ]
  },
  {
   "attachments": {},
   "cell_type": "markdown",
   "metadata": {},
   "source": [
    "#### Variance (Дисперсия)\n",
    "\n",
    "The variance of a dataset can be calculated using the following formula:\n",
    "\n",
    "$$ variance = \\frac{\\sum_{i=1}^{n} (x_i - \\mu)^2}{n} $$\n",
    "\n",
    "where $x_i$ is the $i$th value in the dataset, $\\mu$ is the mean of the dataset, and $n$ is the number of values in the dataset.\n",
    "\n",
    "This formula can be interpreted as:\n",
    "\n",
    "Subtract the mean from each value in the dataset to calculate the deviations from the mean.\n",
    "Square each deviation to remove the signs (positive and negative) and make all values positive.\n",
    "Sum all the squared deviations.\n",
    "Divide the sum of the squared deviations by the number of values in the dataset to calculate the variance.\n",
    "The variance measures how spread out the values in a dataset are. A low variance indicates that the values in the dataset are clustered close to the mean, while a high variance indicates that the values are more spread out."
   ]
  },
  {
   "attachments": {},
   "cell_type": "markdown",
   "metadata": {},
   "source": [
    "To render the probability distribution of these numbers using matplotlib, you can use the hist() function from the pyplot module. For example:"
   ]
  },
  {
   "attachments": {},
   "cell_type": "markdown",
   "metadata": {},
   "source": [
    "##### Visualizing the variance\n",
    "To visualize the variance of a random array using matplotlib, you can use the boxplot() function from the pyplot module. This function generates a boxplot, which is a useful way to visualize the variance of a dataset.\n",
    "\n",
    "First, import the matplotlib.pyplot module and use the boxplot() function to generate a boxplot of the array.\n",
    "\n",
    "To highlight the variance of the data, you can add a title and labels to the plot using the title(), xlabel(), and ylabel() functions."
   ]
  },
  {
   "cell_type": "code",
   "execution_count": 45,
   "metadata": {},
   "outputs": [
    {
     "data": {
      "image/png": "[encoded data removed]",
      "text/plain": [
       "<Figure size 640x480 with 1 Axes>"
      ]
     },
     "metadata": {},
     "output_type": "display_data"
    }
   ],
   "source": [
    "# Add a title and labels to the plot\n",
    "plt.title(\"Variance of Random Numbers\")\n",
    "plt.xlabel(\"Numbers\")\n",
    "plt.ylabel(\"Variance\")\n",
    "\n",
    "# Generate a boxplot of the array\n",
    "plt.boxplot(a)\n",
    "\n",
    "# Show the plot\n",
    "plt.show()"
   ]
  },
  {
   "attachments": {},
   "cell_type": "markdown",
   "metadata": {},
   "source": [
    "This will generate a boxplot that shows the variance of the random numbers. The box in the plot represents the interquartile range of the data, which indicates how spread out the middle 50% of the data is. The whiskers of the plot extend to the minimum and maximum values of the data, which gives an idea of the overall range of the data."
   ]
  }
 ],
 "metadata": {
  "kernelspec": {
   "display_name": "Python 3",
   "language": "python",
   "name": "python3"
  },
  "language_info": {
   "codemirror_mode": {
    "name": "ipython",
    "version": 3
   },
   "file_extension": ".py",
   "mimetype": "text/x-python",
   "name": "python",
   "nbconvert_exporter": "python",
   "pygments_lexer": "ipython3",
   "version": "3.10.9"
  },
  "orig_nbformat": 4,
  "vscode": {
   "interpreter": {
    "hash": "cdaf845c447f5b8a88f1bde010b8054a6111556832cc2133cdddd7f2255dae56"
   }
  }
 },
 "nbformat": 4,
 "nbformat_minor": 2
}
